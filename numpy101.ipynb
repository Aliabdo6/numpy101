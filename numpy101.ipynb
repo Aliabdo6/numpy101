{
 "cells": [
  {
   "cell_type": "markdown",
   "id": "fcd6d0c9-0c3d-4447-83b5-c8630a748c5d",
   "metadata": {},
   "source": [
    "<img src=\"https://www.freecodecamp.org/news/content/images/2020/07/numpy.png\" alt=\"numpy\">"
   ]
  },
  {
   "cell_type": "markdown",
   "id": "e8089159-c947-473d-bed4-e7228f9f4523",
   "metadata": {},
   "source": [
    "# 🚀 Unleashing the Power of NumPy: Your Gateway to Scientific Computing 🧠\r\n",
    "\r\n",
    "## 🌟 Introduction: Revolutionize Your Python with NumPy! 🌟\r\n",
    "\r\n",
    "Welcome to the exhilarating world of **NumPy** - the beating heart of scientific computing in Python! 🐍💻\r\n",
    "\r\n",
    "**NumPy**, short for **Numerical Python**, isn't just a library; it's a game-changer that transforms Python into a powerhouse of numerical computation. Imagine having a turbocharged engine for your code, capable of crunching numbers at lightning speed - that's NumPy for you!\r\n",
    "\r\n",
    "### 🔬 Why NumPy? Because Science Demands Power!\r\n",
    "\r\n",
    "In the realm of data science, machine learning, and scientific research, NumPy stands as the cornerstone upon which giants are built. It's the secret sauce that makes Python a preferred language for scientists, engineers, and data wizards worldwide.\r\n",
    "\r\n",
    "### 🚀 Prepare for Liftoff: Your NumPy Journey Begins Here!\r\n",
    "\r\n",
    "This crash course is your launchpad into the NumPy universe. Buckle up as we explore the galaxies of multidimensional arrays, navigate the asteroid fields of advanced indexing, and warp through the space-time continuum of broadcasting!\r\n",
    "\r\n",
    "---\r\n",
    "\r\n",
    "## 📚 Your Expedition Itinerary: What Awaits You\r\n",
    "\r\n",
    "1. **🎭 The Grand Entrance: Importing NumPy**\r\n",
    "   - Master the art of summoning NumPy's power into your Python realm.\r\n",
    "\r\n",
    "2. **🏗️ Array Alchemy: Crafting Multidimensional Wonders**\r\n",
    "   - Forge 1D, 2D, and mind-bending multidimensional arrays with ease.\r\n",
    "\r\n",
    "3. **🔍 Element Whisperer: Accessing and Altering Array Elements**\r\n",
    "   - Become one with your data - reach in and manipulate it at will.\r\n",
    "\r\n",
    "4. **💾 Data Persistence: Saving and Loading Your Creations**\r\n",
    "   - Learn the secrets of preserving your array masterpieces for posterity.\r\n",
    "\r\n",
    "5. **✂️ Slice and Dice: Surgical Precision with Array Subsets**\r\n",
    "   - Wield the scalpel of slicing to dissect arrays with pinpoint accuracy.\r\n",
    "\r\n",
    "6. **👥 Doppelgänger Dilemma: Views vs. Copies**\r\n",
    "   - Unravel the mysteries of array duplication and reference.\r\n",
    "\r\n",
    "7. **🎭 Boolean Sorcery: Mastering Logical Indexing**\r\n",
    "   - Harness the power of truth to filter and transform your data.\r\n",
    "\r\n",
    "8. **🔄 Sorting Chaos: Bringing Order to Your Arrays**\r\n",
    "   - Learn to command your data into perfect formation.\r\n",
    "\r\n",
    "9. **⚡ Elemental Fury: Unleashing Operations Across Arrays**\r\n",
    "   - Perform mathematical miracles on entire datasets in the blink of an eye.\r\n",
    "\r\n",
    "10. **🔮 The Art of Broadcasting: Bending Dimensions to Your Will**\r\n",
    "    - Discover the magic that allows operations between arrays of different sizes.\r\n",
    "\r\n",
    "---\r\n",
    "\r\n",
    "### 🌠 Embark on Your NumPy Odyssey!\r\n",
    "\r\n",
    "Prepare to transcend the ordinary and enter a realm where data bends to your will. By the end of this journey, you'll wield NumPy with the finesse of a digital virtuoso, ready to tackle the most daunting computational challenges.\r\n",
    "\r\n",
    "Remember, in the world of NumPy, you're not just coding - you're conducting a symphony of numbers, painting with data, and sculpting the very fabric of scientific computing.\r\n",
    "\r\n",
    "Are you ready to revolutionize your Python experience? Let's dive in and unlock the infinite possibilities that await! 🚀🔓✨"
   ]
  },
  {
   "cell_type": "markdown",
   "id": "c0d627cc-0f78-4ffb-9574-865a3c6d258c",
   "metadata": {},
   "source": [
    "# 💡 **Why Use NumPy?**\n",
    "\n",
    "You may be wondering, why use **NumPy** when Python already has lists, which were covered in the **Intro to Python** lessons? 🤔\n",
    "\n",
    "While Python lists are quite versatile, **NumPy** brings **several key advantages** that make it superior for many scientific and data-intensive tasks.\n",
    "\n",
    "---\n",
    "\n",
    "## 🚀 **Key Features of NumPy** \n",
    "\n",
    "### ⚡ **Speed**\n",
    "One of the most important reasons to use NumPy is **speed**. When working with **large arrays**, NumPy can be **several orders of magnitude faster** than Python lists. This speed boost comes from:\n",
    "\n",
    "- **Memory efficiency**: NumPy arrays are stored more compactly in memory.\n",
    "- **Optimized algorithms**: NumPy uses highly efficient algorithms for operations like arithmetic, statistics, and linear algebra.\n",
    "\n",
    "### 🔢 **Multidimensional Array Structures**\n",
    "Another powerful feature of NumPy is its ability to handle **multidimensional arrays**, like **vectors** and **matrices**.\n",
    "\n",
    "- You'll explore **vectors and matrices** in the Linear Algebra section later in this course.\n",
    "- Many **machine learning algorithms** rely heavily on matrix operations. For example, during **Neural Network** training, you'll often need to perform many matrix multiplications.\n",
    "  \n",
    "NumPy is designed to perform these **Linear Algebra operations efficiently**, making it an ideal tool for **machine learning** and **AI** applications.\n",
    "\n",
    "### 🔍 **Optimized Mathematical Functions**\n",
    "NumPy comes with a wealth of **built-in mathematical functions** that are optimized for performance. These functions allow you to:\n",
    "\n",
    "- Perform **complex mathematical computations** quickly.\n",
    "- Write more **concise and readable code**, avoiding lengthy and complex loops.\n",
    "  \n",
    "By leveraging these optimized functions, your programs will not only run faster but also be **cleaner** and **easier to understand**.\n",
    "\n",
    "---\n",
    "\n",
    "## 🌟 **Why NumPy is Essential**\n",
    "\n",
    "NumPy's popularity extends far beyond its direct use. Many other Python packages, such as **Pandas**, are built on top of NumPy. This makes NumPy a **foundational package** for anyone working in **data science**, **machine learning**, or **scientific computing**.\n",
    "\n",
    "It's clear that **NumPy** is more than just a replacement for Python lists—it's a **must-have** tool for efficient, high-performance computing. 🔥\n",
    "\n",
    "---\n"
   ]
  },
  {
   "cell_type": "markdown",
   "id": "001684d2-9be5-4fce-a9d4-3095041a5eb3",
   "metadata": {},
   "source": [
    "# 🧠 **The Core of NumPy: The `ndarray`**\n",
    "\n",
    "At the heart of **NumPy** is the **ndarray**, where **nd** stands for **n-dimensional**. An `ndarray` is a **multidimensional array** consisting of elements that are **all of the same type**.\n",
    "\n",
    "---\n",
    "\n",
    "## 🟦 **What is an `ndarray`?**\n",
    "\n",
    "- An `ndarray` is essentially a **grid** that can take on **many shapes** and can hold a variety of data types, such as numbers or strings.\n",
    "- One common application in **Machine Learning** involves using an `ndarray` to store the **pixel values** of an image that will be fed into a **Neural Network** for tasks like **image classification**.\n",
    "\n",
    "In many Machine Learning problems, you'll encounter `ndarrays` in different forms, so understanding how they work is key to efficient data manipulation.\n",
    "\n",
    "---\n",
    "\n",
    "## 🔄 **How to Import NumPy**\n",
    "\n",
    "Before we can start working with `ndarrays`, we need to first **import** NumPy into Python. It is common practice to import NumPy using the alias **`np`** for convenience. This can be done by executing the following command:\n",
    "\n",
    "\n",
    "\n"
   ]
  },
  {
   "cell_type": "code",
   "execution_count": 1,
   "id": "e2f1aa06-40e1-43de-996d-7a635d47fbb0",
   "metadata": {},
   "outputs": [],
   "source": [
    "import numpy as np"
   ]
  },
  {
   "cell_type": "markdown",
   "id": "8c8f01b4-982e-4650-b9f5-3c2ba96b286a",
   "metadata": {},
   "source": [
    "### Simply type this command in your **Jupyter Notebook** or Python environment to begin working with **NumPy**!\n",
    "\n",
    "---\n",
    "\n",
    "Once you've imported NumPy, you'll be ready to dive into creating and manipulating `ndarrays` to solve complex computational problems. Let's get started! 🚀 \n"
   ]
  },
  {
   "cell_type": "markdown",
   "id": "635f59a3-8004-4fab-b86a-c1bd54ddac13",
   "metadata": {},
   "source": [
    "# 📐 **Creating `ndarrays` in NumPy**\n",
    "\n",
    "There are several ways to create **`ndarrays`** in NumPy. In the following lessons, we will explore two ways to create `ndarrays`:\n",
    "\n",
    "1. **Using regular Python lists**\n",
    "2. **Using built-in NumPy functions**\n",
    "\n",
    "---\n",
    "\n",
    "## 🔧 **Creating `ndarrays` Using Python Lists**\n",
    "\n",
    "In this section, we will create `ndarrays` by providing **Python lists** to the NumPy **`np.array()`** function. This can create some confusion for beginners, but it is important to remember that:\n",
    "\n",
    "- **`np.array()`** is **NOT a class**; it’s just a **function** that returns an `ndarray`.\n",
    "\n",
    "For clarity, the examples throughout these lessons will use **small and simple `ndarrays`**. Let's start by creating **1-Dimensional (1D) `ndarrays`**.\n"
   ]
  },
  {
   "cell_type": "code",
   "execution_count": 2,
   "id": "7d66f161-2c8a-4477-99a5-e55f8499c61b",
   "metadata": {},
   "outputs": [
    {
     "name": "stdout",
     "output_type": "stream",
     "text": [
      "x =  [1 2 3 4 5]\n"
     ]
    }
   ],
   "source": [
    "# We import NumPy into Python\n",
    "import numpy as np\n",
    "\n",
    "# We create a 1D ndarray that contains only integers\n",
    "x = np.array([1, 2, 3, 4, 5])\n",
    "\n",
    "# Let's print the ndarray we just created using the print() command\n",
    "print('x = ', x)"
   ]
  },
  {
   "cell_type": "markdown",
   "id": "a17dc3a3-7861-4935-a32d-a9df4f1fedfa",
   "metadata": {},
   "source": [
    "# 🔎 **Understanding Array Terminology**\n",
    "\n",
    "Before we dive deeper, let's pause and introduce some **useful terminology** when working with **NumPy arrays**:\n",
    "\n",
    "### 🟦 **Rank of Arrays**\n",
    "- A **1D array** is referred to as a **rank 1 array**.\n",
    "- In general, an **N-Dimensional array** has **rank N**.\n",
    "  - For example, a **2D array** is referred to as a **rank 2 array**.\n",
    "\n",
    "---\n",
    "\n",
    "### 🔢 **Shape of Arrays**\n",
    "- The **shape** of an array describes its **size along each dimension**.\n",
    "  - For instance, the **shape** of a rank 2 array corresponds to the number of **rows and columns** in the array.\n",
    "- **NumPy `ndarrays`** come with attributes that allow you to obtain such information **intuitively**.\n",
    "  - The **`.shape` attribute** returns a **tuple** of N positive integers, each specifying the size along a specific dimension.\n",
    "\n",
    "---\n",
    "\n",
    "## 🟢 **Example: Getting the Shape, Type, and Data-Type (`dtype`) of an `ndarray`**\n",
    "\n",
    "In the example below, we will:\n",
    "\n",
    "1. Create a **rank 1 array**.\n",
    "2. Learn how to obtain its **shape**.\n",
    "3. Discover its **type**.\n",
    "4. Find out the **data-type (`dtype`)** of its elements.\n",
    "\n"
   ]
  },
  {
   "cell_type": "code",
   "execution_count": 3,
   "id": "a218d93e-bacd-481c-9b4b-ec380af97466",
   "metadata": {},
   "outputs": [
    {
     "name": "stdout",
     "output_type": "stream",
     "text": [
      "\n",
      "x =  [1 2 3 4 5]\n",
      "\n",
      "x has dimensions: (5,)\n",
      "x is an object of type: <class 'numpy.ndarray'>\n",
      "The elements in x are of type: int32\n"
     ]
    }
   ],
   "source": [
    "# We create a 1D ndarray that contains only integers\n",
    "x = np.array([1, 2, 3, 4, 5])\n",
    "\n",
    "# We print x\n",
    "print()\n",
    "print('x = ', x)\n",
    "print()\n",
    "\n",
    "# We print information about x\n",
    "print('x has dimensions:', x.shape)\n",
    "print('x is an object of type:', type(x))\n",
    "print('The elements in x are of type:', x.dtype)"
   ]
  },
  {
   "cell_type": "markdown",
   "id": "a8afcbbf-fa80-4e3d-acff-e409f96eef66",
   "metadata": {},
   "source": [
    "# 🔍 **Interpreting the `ndarray` Attributes**\n",
    "\n",
    "In our previous example, we observed the following:\n",
    "\n",
    "1. The **`.shape`** attribute returned the tuple **`(5,)`**, indicating that:\n",
    "   - **`x`** is a **rank 1** array (i.e., it has only **one dimension**).\n",
    "   - It contains **5 elements**.\n",
    "\n",
    "2. The **`type()`** function confirmed that **`x`** is indeed a **NumPy `ndarray`**.\n",
    "\n",
    "3. The **`.dtype`** attribute revealed that the elements of **`x`** are stored as **signed 64-bit integers** in memory.\n",
    "\n",
    "---\n",
    "\n",
    "### 💡 **NumPy's Support for Multiple Data Types**\n",
    "One of the key advantages of NumPy over Python lists is its ability to handle a **variety of data types**. NumPy supports far more data types than standard Python lists. You can explore all the supported data types by visiting the link below:\n",
    "\n",
    "🔗 [NumPy Data Types](https://numpy.org/doc/stable/user/basics.types.html)\n",
    "\n",
    "---\n",
    "\n",
    "### 🟢 **Example: Creating a Rank 1 `ndarray` of Strings**\n",
    "\n",
    "As mentioned earlier, **`ndarrays`** can also hold **strings**. Let's create a **rank 1 `ndarray` of strings** by passing a **Python list of strings** to the **`np.array()`** function.\n"
   ]
  },
  {
   "cell_type": "code",
   "execution_count": 4,
   "id": "8db4df4b-42bd-4441-b62c-713da4f6be9b",
   "metadata": {},
   "outputs": [
    {
     "name": "stdout",
     "output_type": "stream",
     "text": [
      "\n",
      "x =  ['Hello' 'World']\n",
      "\n",
      "x has dimensions: (2,)\n",
      "x is an object of type: <class 'numpy.ndarray'>\n",
      "The elements in x are of type: <U5\n"
     ]
    }
   ],
   "source": [
    "# We create a rank 1 ndarray that only contains strings\n",
    "x = np.array(['Hello', 'World'])\n",
    "\n",
    "# We print x\n",
    "print()\n",
    "print('x = ', x)\n",
    "print()\n",
    "\n",
    "# We print information about x\n",
    "print('x has dimensions:', x.shape)\n",
    "print('x is an object of type:', type(x))\n",
    "print('The elements in x are of type:', x.dtype)"
   ]
  },
  {
   "cell_type": "markdown",
   "id": "50b25b38-c494-4301-ba3a-313656c70064",
   "metadata": {},
   "source": [
    "# 🧵 **Exploring the `ndarray` of Strings**\n",
    "\n",
    "In the previous example, we observed the following:\n",
    "\n",
    "1. The **`.shape`** attribute tells us that **`x`** now has **2 elements**.\n",
    "2. Even though **`x`** holds **strings**, the **`type()`** function still confirms that **`x`** is a **NumPy `ndarray`**.\n",
    "3. The **`.dtype`** attribute shows that the elements in **`x`** are stored in memory as **Unicode strings of 5 characters**.\n",
    "\n",
    "---\n",
    "\n",
    "### ⚠️ **Key Difference: Python Lists vs `ndarrays`**\n",
    "\n",
    "One crucial difference between **Python lists** and **NumPy `ndarrays`** is that:\n",
    "\n",
    "- In a **Python list**, you can mix data types (e.g., integers and strings).\n",
    "- In a **NumPy `ndarray`**, **all elements must be of the same type**.\n",
    "\n",
    "If you pass a **Python list** containing **both integers and strings** to the **`np.array()`** function, **NumPy** will automatically convert **all elements to strings**. Let's see this in action in the next example:\n"
   ]
  },
  {
   "cell_type": "code",
   "execution_count": 5,
   "id": "f95d605b-de6e-47a5-8da3-9dc16191ffa5",
   "metadata": {},
   "outputs": [
    {
     "name": "stdout",
     "output_type": "stream",
     "text": [
      "\n",
      "x =  ['1' '2' 'World']\n",
      "\n",
      "x has dimensions: (3,)\n",
      "x is an object of type: <class 'numpy.ndarray'>\n",
      "The elements in x are of type: <U11\n"
     ]
    }
   ],
   "source": [
    "# We create a rank 1 ndarray from a Python list that contains integers and strings\n",
    "x = np.array([1, 2, 'World'])\n",
    "\n",
    "# We print the ndarray\n",
    "print()\n",
    "print('x = ', x)\n",
    "print()\n",
    "\n",
    "# We print information about x\n",
    "print('x has dimensions:', x.shape)\n",
    "print('x is an object of type:', type(x))\n",
    "print('The elements in x are of type:', x.dtype)"
   ]
  },
  {
   "cell_type": "markdown",
   "id": "d620ffdb-412a-4a80-92ea-cb1330224e1c",
   "metadata": {},
   "source": [
    "# 🔤 **Handling Mixed Data Types in `ndarrays`**\n",
    "\n",
    "In the last example, we saw that even though the **Python list** contained **mixed data types** (integers and strings), NumPy automatically converted all the elements to **Unicode strings of 21 characters**.\n",
    "\n",
    "---\n",
    "\n",
    "### 🧠 **Key Takeaway:**\n",
    "While we won't be using `ndarrays` with strings for the rest of this **introduction to NumPy**, it's important to remember that **`ndarrays` can hold strings** when necessary.\n",
    "\n",
    "---\n",
    "\n",
    "## 🟢 **Next: Creating a Rank 2 `ndarray`**\n",
    "\n",
    "Now, let's move forward and see how we can create a **rank 2 `ndarray`** from a **nested Python list**.\n"
   ]
  },
  {
   "cell_type": "code",
   "execution_count": 6,
   "id": "6d512617-d6cc-4c49-84bf-08d20563dcd2",
   "metadata": {},
   "outputs": [
    {
     "name": "stdout",
     "output_type": "stream",
     "text": [
      "\n",
      "Y = \n",
      " [[ 1  2  3]\n",
      " [ 4  5  6]\n",
      " [ 7  8  9]\n",
      " [10 11 12]]\n",
      "\n",
      "Y has dimensions: (4, 3)\n",
      "Y has a total of 12 elements\n",
      "Y is an object of type: <class 'numpy.ndarray'>\n",
      "The elements in Y are of type: int32\n"
     ]
    }
   ],
   "source": [
    "# We create a rank 2 ndarray that only contains integers\n",
    "Y = np.array([[1,2,3],[4,5,6],[7,8,9], [10,11,12]])\n",
    "\n",
    "# We print Y\n",
    "print()\n",
    "print('Y = \\n', Y)\n",
    "print()\n",
    "\n",
    "# We print information about Y\n",
    "print('Y has dimensions:', Y.shape)\n",
    "print('Y has a total of', Y.size, 'elements')\n",
    "print('Y is an object of type:', type(Y))\n",
    "print('The elements in Y are of type:', Y.dtype)"
   ]
  },
  {
   "cell_type": "markdown",
   "id": "2352678c-dffb-4e70-9862-b2595febe9b5",
   "metadata": {},
   "source": [
    "# 📊 **Creating a Rank 2 `ndarray`**\n",
    "\n",
    "In the previous example, we created a rank 2 `ndarray` **`Y`** from a nested Python list. The observations were as follows:\n",
    "\n",
    "1. The **`.shape`** attribute returned the tuple **`(4, 3)`**, indicating that:\n",
    "   - **`Y`** is of **rank 2** (i.e., it has **4 rows** and **3 columns**).\n",
    "   \n",
    "2. The **`.size`** attribute confirmed that **`Y`** contains a total of **12 elements**.\n",
    "\n",
    "---\n",
    "\n",
    "### ⚙️ **Automatic Data Type Assignment**\n",
    "When NumPy creates an `ndarray`, it automatically assigns its **`dtype`** based on the type of the elements used for its creation. \n",
    "\n",
    "- Up to this point, we have only created `ndarrays` with integers and strings. \n",
    "- We noticed that when we create an `ndarray` with only **integers**, NumPy assigns the **`dtype`** as **`int64`**.\n",
    "\n",
    "---\n",
    "\n",
    "## 🟢 **Next Steps: Mixing Floats and Integers**\n",
    "Let's explore what happens when we create `ndarrays` that include **both floats and integers**.\n"
   ]
  },
  {
   "cell_type": "code",
   "execution_count": 7,
   "id": "c1cc5ac2-0684-4c83-a167-812bf00204ac",
   "metadata": {},
   "outputs": [
    {
     "name": "stdout",
     "output_type": "stream",
     "text": [
      "The elements in x are of type: int32\n",
      "The elements in y are of type: float64\n",
      "The elements in z are of type: float64\n"
     ]
    }
   ],
   "source": [
    "# We create a rank 1 ndarray that contains integers\n",
    "x = np.array([1,2,3])\n",
    "\n",
    "# We create a rank 1 ndarray that contains floats\n",
    "y = np.array([1.0,2.0,3.0])\n",
    "\n",
    "# We create a rank 1 ndarray that contains integers and floats\n",
    "z = np.array([1, 2.5, 4])\n",
    "\n",
    "# We print the dtype of each ndarray\n",
    "print('The elements in x are of type:', x.dtype)\n",
    "print('The elements in y are of type:', y.dtype)\n",
    "print('The elements in z are of type:', z.dtype)"
   ]
  },
  {
   "cell_type": "markdown",
   "id": "07b6943c-6712-469d-bf90-4d9c15889f2d",
   "metadata": {},
   "source": [
    "# 🔢 **Understanding Data Types in `ndarrays`**\n",
    "\n",
    "In our previous exploration, we found:\n",
    "\n",
    "1. When we create an `ndarray` with only **floats**, NumPy stores the elements in memory as **64-bit floating point numbers (`float64`)**.\n",
    "  \n",
    "2. However, when we create an `ndarray` containing **both floats and integers** (as seen with the **`z` ndarray**), NumPy assigns the **`float64`** dtype to all elements. This process is known as **upcasting**. \n",
    "\n",
    "   - This ensures that all elements are of the same type, with integers being converted to floats to prevent losing precision in numerical computations.\n",
    "\n",
    "---\n",
    "\n",
    "### ⚙️ **Specifying Data Types**\n",
    "While NumPy automatically selects the **`dtype`** of the `ndarray`, it also provides the flexibility to specify a particular **`dtype`** for the elements when creating the `ndarray`. You can do this using the **`dtype`** keyword in the **`np.array()`** function.\n",
    "\n",
    "---\n",
    "\n",
    "## 🟢 **Example: Specifying the `dtype`**\n",
    "Let's see an example of how to specify the **`dtype`** when creating an `ndarray`.\n"
   ]
  },
  {
   "cell_type": "code",
   "execution_count": 8,
   "id": "474f1109-ac99-4863-9ea7-e5207f5fd0ad",
   "metadata": {},
   "outputs": [
    {
     "name": "stdout",
     "output_type": "stream",
     "text": [
      "\n",
      "x =  [1 2 3 4 5]\n",
      "\n",
      "The elements in x are of type: int64\n"
     ]
    }
   ],
   "source": [
    "# We create a rank 1 ndarray of floats but set the dtype to int64\n",
    "x = np.array([1.5, 2.2, 3.7, 4.0, 5.9], dtype = np.int64)\n",
    "\n",
    "# We print x\n",
    "print()\n",
    "print('x = ', x)\n",
    "print()\n",
    "\n",
    "# We print the dtype x\n",
    "print('The elements in x are of type:', x.dtype)"
   ]
  },
  {
   "cell_type": "markdown",
   "id": "b9aea828-b689-4154-b828-7390853fa5bd",
   "metadata": {},
   "source": [
    "# 📂 **Specifying Data Types in `ndarrays`**\n",
    "\n",
    "In the previous example, we observed that:\n",
    "\n",
    "- Even though we created the `ndarray` with **floats**, by specifying the **`dtype`** as **`int64`**, NumPy converted the floating-point numbers into integers by removing their decimal parts.\n",
    "\n",
    "### ⚙️ **Why Specify the `dtype`?**\n",
    "Specifying the **`dtype`** of the `ndarray` can be beneficial in several scenarios:\n",
    "\n",
    "- **Prevent Accidental Type Selection:** Ensures NumPy does not accidentally choose an unintended data type.\n",
    "- **Control Precision:** Helps manage the level of precision required for calculations, which can also save memory.\n",
    "\n",
    "---\n",
    "\n",
    "## 💾 **Saving `ndarrays` to Files**\n",
    "Once you have created an `ndarray`, you might want to save it to a file for later use or to share with another program. NumPy provides a straightforward way to save arrays into files. \n",
    "\n",
    "### 🔍 **Let’s Explore How to Save `ndarrays`**\n",
    "Let's see how this is done!\n"
   ]
  },
  {
   "cell_type": "code",
   "execution_count": 9,
   "id": "877e1ce6-d55e-48b0-96f2-7fa757c730b1",
   "metadata": {},
   "outputs": [],
   "source": [
    "# We create a rank 1 ndarray\n",
    "x = np.array([1, 2, 3, 4, 5])\n",
    "\n",
    "# We save x into the current directory as \n",
    "np.save('my_array', x)"
   ]
  },
  {
   "cell_type": "markdown",
   "id": "ddba31a1-d7fc-4ee8-9b55-761e94f9c84f",
   "metadata": {},
   "source": [
    "# 📥 **Saving and Loading `ndarrays`**\n",
    "\n",
    "The previous example demonstrated how to save the **`x` ndarray** into a file named **`my_array.npy`**.\n",
    "\n",
    "### 🔄 **Loading Saved `ndarrays`**\n",
    "You can load the saved `ndarray` back into a variable using the **`load()`** function. Here's how it works:"
   ]
  },
  {
   "cell_type": "markdown",
   "id": "bfd004fa-b84c-48db-be24-992f667fd4b9",
   "metadata": {},
   "source": [
    "# We load the saved array from our current directory into variable y\n",
    "y = np.load('my_array.npy')\n",
    "\n",
    "# We print y\n",
    "print()\n",
    "print('y = ', y)\n",
    "print()\n",
    "\n",
    "# We print information about the ndarray we loaded\n",
    "print('y is an object of type:', type(y))\n",
    "print('The elements in y are of type:', y.dtype)"
   ]
  },
  {
   "cell_type": "code",
   "execution_count": 10,
   "id": "9c3384c3-daa5-477c-9679-59c249e5662a",
   "metadata": {},
   "outputs": [
    {
     "name": "stdout",
     "output_type": "stream",
     "text": [
      "\n",
      "y =  [1 2 3 4 5]\n",
      "\n",
      "y is an object of type: <class 'numpy.ndarray'>\n",
      "The elements in y are of type: int32\n"
     ]
    }
   ],
   "source": [
    "# We load the saved array from our current directory into variable y\n",
    "y = np.load('my_array.npy')\n",
    "\n",
    "# We print y\n",
    "print()\n",
    "print('y = ', y)\n",
    "print()\n",
    "\n",
    "# We print information about the ndarray we loaded\n",
    "print('y is an object of type:', type(y))\n",
    "print('The elements in y are of type:', y.dtype)"
   ]
  },
  {
   "cell_type": "markdown",
   "id": "2c54f3e0-d9fd-4dc7-9350-c04b15fcecba",
   "metadata": {},
   "source": [
    "# 🛠️ **Using Built-in Functions to Create `ndarrays`**\n",
    "\n",
    "One of the fantastic features of NumPy is its ability to create `ndarrays` using built-in functions, allowing you to generate specific types of `ndarrays` in just one line of code. Below are some of the most useful built-in functions for creating `ndarrays`, especially in AI programming.\n",
    "\n",
    "### 🟢 **Creating an `ndarray` Full of Zeros**\n",
    "To create an `ndarray` with a specified shape filled with zeros, you can use the **`np.zeros()`** function. \n",
    "\n",
    "#### Example:\n",
    "The function **`np.zeros(shape)`** creates an `ndarray` filled with zeros, where **`shape`** defines the desired dimensions. For instance, if you want to create a rank 2 array with **3 rows** and **4 columns**, you can pass the shape as follows:\n",
    "\n",
    "\n"
   ]
  },
  {
   "cell_type": "code",
   "execution_count": 11,
   "id": "8624515e-efe1-4cd5-bcc5-0baadb4cacb9",
   "metadata": {},
   "outputs": [
    {
     "name": "stdout",
     "output_type": "stream",
     "text": [
      "\n",
      "X = \n",
      " [[0. 0. 0. 0.]\n",
      " [0. 0. 0. 0.]\n",
      " [0. 0. 0. 0.]]\n",
      "\n",
      "X has dimensions: (3, 4)\n",
      "X is an object of type: <class 'numpy.ndarray'>\n",
      "The elements in X are of type: float64\n"
     ]
    }
   ],
   "source": [
    "# We create a 3 x 4 ndarray full of zeros. \n",
    "X = np.zeros((3,4))\n",
    "\n",
    "# We print X\n",
    "print()\n",
    "print('X = \\n', X)\n",
    "print()\n",
    "\n",
    "# We print information about X\n",
    "print('X has dimensions:', X.shape)\n",
    "print('X is an object of type:', type(X))\n",
    "print('The elements in X are of type:', X.dtype)"
   ]
  },
  {
   "cell_type": "markdown",
   "id": "cb0445c9-5108-4319-88aa-b913347dd12e",
   "metadata": {},
   "source": [
    "As we can see, the `np.zeros()` function creates by default an array with `dtype` float64. If desired, the data type can be changed by using the keyword `dtype`.\n",
    "\n",
    "Similarly, we can create an `ndarray` with a specified shape that is full of ones. We can do this by using the `np.ones()` function. Just like the `np.zeros()` function, the `np.ones()` function takes as an argument the shape of the `ndarray` you want to make. Let's see an example:\n"
   ]
  },
  {
   "cell_type": "code",
   "execution_count": 12,
   "id": "85c99ec2-754e-4899-9733-e97182f4276c",
   "metadata": {},
   "outputs": [
    {
     "name": "stdout",
     "output_type": "stream",
     "text": [
      "\n",
      "X = \n",
      " [[1. 1.]\n",
      " [1. 1.]\n",
      " [1. 1.]]\n",
      "\n",
      "X has dimensions: (3, 2)\n",
      "X is an object of type: <class 'numpy.ndarray'>\n",
      "The elements in X are of type: float64\n"
     ]
    }
   ],
   "source": [
    "# We create a 3 x 2 ndarray full of ones. \n",
    "X = np.ones((3,2))\n",
    "\n",
    "# We print X\n",
    "print()\n",
    "print('X = \\n', X)\n",
    "print()\n",
    "\n",
    "# We print information about X\n",
    "print('X has dimensions:', X.shape)\n",
    "print('X is an object of type:', type(X))\n",
    "print('The elements in X are of type:', X.dtype) "
   ]
  },
  {
   "cell_type": "markdown",
   "id": "aafb067c-f7fd-487f-bf72-e252c8d7302a",
   "metadata": {},
   "source": [
    "As we can see, the `np.ones()` function also creates, by default, an array with `dtype` **float64**. If desired, the data type can be changed by using the keyword `dtype`.\n",
    "\n",
    "We can also create an `ndarray` with a specified shape that is full of any number we want. We can do this by using the `np.full()` function. The `np.full(shape, constant value)` function takes two arguments: \n",
    "\n",
    "1. **shape**: The shape of the `ndarray` you want to make.\n",
    "2. **constant value**: The constant value you want to populate the array with.\n",
    "\n",
    "Let's see an example:\n"
   ]
  },
  {
   "cell_type": "code",
   "execution_count": 13,
   "id": "b23372c0-291c-4273-a17d-ac77d4c4d9f1",
   "metadata": {},
   "outputs": [
    {
     "name": "stdout",
     "output_type": "stream",
     "text": [
      "\n",
      "X = \n",
      " [[5 5 5]\n",
      " [5 5 5]]\n",
      "\n",
      "X has dimensions: (2, 3)\n",
      "X is an object of type: <class 'numpy.ndarray'>\n",
      "The elements in X are of type: int32\n"
     ]
    }
   ],
   "source": [
    "# We create a 2 x 3 ndarray full of fives. \n",
    "X = np.full((2,3), 5) \n",
    "\n",
    "# We print X\n",
    "print()\n",
    "print('X = \\n', X)\n",
    "print()\n",
    "\n",
    "# We print information about X\n",
    "print('X has dimensions:', X.shape)\n",
    "print('X is an object of type:', type(X))\n",
    "print('The elements in X are of type:', X.dtype)  "
   ]
  },
  {
   "cell_type": "markdown",
   "id": "a5d68248-139c-48f1-808a-ce60f9376c04",
   "metadata": {},
   "source": [
    "The `np.full()` function creates, by default, an array with the same data type as the constant value used to fill in the array. If desired, the data type can be changed by using the keyword `dtype`.\n",
    "\n",
    "As you will learn later, a fundamental array in Linear Algebra is the **Identity Matrix**. An Identity matrix is a square matrix that has only **1s** in its main diagonal and **0s** everywhere else. The function `np.eye(N)` creates a square \\( N \\times N \\) `ndarray` corresponding to the Identity matrix. Since all Identity Matrices are square, the `np.eye()` function only takes a single integer as an argument. \n",
    "\n",
    "Let's see an example:\n"
   ]
  },
  {
   "cell_type": "code",
   "execution_count": 14,
   "id": "14b3de81-06bb-4120-9a0e-ca264253406a",
   "metadata": {},
   "outputs": [
    {
     "name": "stdout",
     "output_type": "stream",
     "text": [
      "\n",
      "X = \n",
      " [[1. 0. 0. 0. 0.]\n",
      " [0. 1. 0. 0. 0.]\n",
      " [0. 0. 1. 0. 0.]\n",
      " [0. 0. 0. 1. 0.]\n",
      " [0. 0. 0. 0. 1.]]\n",
      "\n",
      "X has dimensions: (5, 5)\n",
      "X is an object of type: <class 'numpy.ndarray'>\n",
      "The elements in X are of type: float64\n"
     ]
    }
   ],
   "source": [
    "# We create a 5 x 5 Identity matrix. \n",
    "X = np.eye(5)\n",
    "\n",
    "# We print X\n",
    "print()\n",
    "print('X = \\n', X)\n",
    "print()\n",
    "\n",
    "# We print information about X\n",
    "print('X has dimensions:', X.shape)\n",
    "print('X is an object of type:', type(X))\n",
    "print('The elements in X are of type:', X.dtype) "
   ]
  },
  {
   "cell_type": "markdown",
   "id": "f6b70267-ced9-4827-8149-2cba289e43bd",
   "metadata": {},
   "source": [
    "As we can see, the `np.eye()` function also creates, by default, an array with `dtype` **float64**. If desired, the data type can be changed by using the keyword `dtype`. You will learn all about **Identity Matrices** and their use in the Linear Algebra section of this course.\n",
    "\n",
    "We can also create **diagonal matrices** by using the `np.diag()` function. A diagonal matrix is a square matrix that only has values in its main diagonal. The `np.diag()` function creates an `ndarray` corresponding to a diagonal matrix, as shown in the example below:\n"
   ]
  },
  {
   "cell_type": "code",
   "execution_count": 15,
   "id": "aebb222a-45a4-447a-822a-6164d04108d1",
   "metadata": {},
   "outputs": [
    {
     "name": "stdout",
     "output_type": "stream",
     "text": [
      "\n",
      "X = \n",
      " [[10  0  0  0]\n",
      " [ 0 20  0  0]\n",
      " [ 0  0 30  0]\n",
      " [ 0  0  0 50]]\n",
      "\n"
     ]
    }
   ],
   "source": [
    "# Create a 4 x 4 diagonal matrix that contains the numbers 10,20,30, and 50\n",
    "# on its main diagonal\n",
    "X = np.diag([10,20,30,50])\n",
    "\n",
    "# We print X\n",
    "print()\n",
    "print('X = \\n', X)\n",
    "print()"
   ]
  },
  {
   "cell_type": "markdown",
   "id": "a2782300-5dc9-4e48-b3a1-93cba01ecd9a",
   "metadata": {},
   "source": [
    "NumPy also allows you to create `ndarrays` that have evenly spaced values within a given interval. NumPy's `np.arange()` function is very versatile and can be used with either one, two, or three arguments. Below, we will see examples of each case and how they are used to create different kinds of `ndarrays`.\n",
    "\n",
    "Let's start by using `np.arange()` with only one argument. When used with only one argument, `np.arange(N)` will create a rank 1 `ndarray` with consecutive integers between **0** and **N - 1**. Therefore, notice that if I want an array to have integers between **0** and **9**, I have to use **N = 10**, NOT **N = 9**, as in the example below:\n"
   ]
  },
  {
   "cell_type": "code",
   "execution_count": 18,
   "id": "27ed0f82-1a4e-4fc2-9e65-b4821ed1fbaf",
   "metadata": {},
   "outputs": [
    {
     "name": "stdout",
     "output_type": "stream",
     "text": [
      "\n",
      "x =  [0 1 2 3 4 5 6 7 8 9]\n",
      "\n",
      "x has dimensions: (10,)\n",
      "x is an object of type: <class 'numpy.ndarray'>\n",
      "The elements in x are of type: int32\n"
     ]
    }
   ],
   "source": [
    "# We create a rank 1 ndarray that has sequential integers from 0 to 9\n",
    "x = np.arange(10)\n",
    "\n",
    "# We print the ndarray\n",
    "print()\n",
    "print('x = ', x)\n",
    "print()\n",
    "\n",
    "# We print information about the ndarray\n",
    "print('x has dimensions:', x.shape)\n",
    "print('x is an object of type:', type(x))\n",
    "print('The elements in x are of type:', x.dtype) "
   ]
  },
  {
   "cell_type": "markdown",
   "id": "c5420565-4ba7-4535-8a98-0af78c817780",
   "metadata": {},
   "source": [
    "When used with two arguments, `np.arange(start, stop)` will create a rank 1 `ndarray` with evenly spaced values within the half-open interval \\([ \\text{start}, \\text{stop} )\\). This means the evenly spaced numbers will include **start** but exclude **stop**. \n",
    "\n",
    "Let's see an example:\n"
   ]
  },
  {
   "cell_type": "code",
   "execution_count": 19,
   "id": "653e58ef-ec9b-4006-937e-731ef6204576",
   "metadata": {},
   "outputs": [
    {
     "name": "stdout",
     "output_type": "stream",
     "text": [
      "\n",
      "x =  [4 5 6 7 8 9]\n",
      "\n",
      "x has dimensions: (6,)\n",
      "x is an object of type: <class 'numpy.ndarray'>\n",
      "The elements in x are of type: int32\n"
     ]
    }
   ],
   "source": [
    "# We create a rank 1 ndarray that has sequential integers from 4 to 9. \n",
    "x = np.arange(4,10)\n",
    "\n",
    "# We print the ndarray\n",
    "print()\n",
    "print('x = ', x)\n",
    "print()\n",
    "\n",
    "# We print information about the ndarray\n",
    "print('x has dimensions:', x.shape)\n",
    "print('x is an object of type:', type(x))\n",
    "print('The elements in x are of type:', x.dtype)"
   ]
  },
  {
   "cell_type": "markdown",
   "id": "9495dfdb-6bec-4972-a6d2-d94db615e781",
   "metadata": {},
   "source": [
    "As we can see, the function `np.arange(4, 10)` generates a sequence of integers with **4** inclusive and **10** exclusive.\n",
    "\n",
    "Finally, when used with three arguments, `np.arange(start, stop, step)` will create a rank 1 `ndarray` with evenly spaced values within the half-open interval \\([ \\text{start}, \\text{stop} )\\), with **step** being the distance between two adjacent values. \n",
    "\n",
    "Let's see an example:\n"
   ]
  },
  {
   "cell_type": "code",
   "execution_count": 20,
   "id": "716f0f75-3cd1-4245-a19b-407107ca59b3",
   "metadata": {},
   "outputs": [
    {
     "name": "stdout",
     "output_type": "stream",
     "text": [
      "\n",
      "x =  [ 1  4  7 10 13]\n",
      "\n",
      "x has dimensions: (5,)\n",
      "x is an object of type: <class 'numpy.ndarray'>\n",
      "The elements in x are of type: int32\n"
     ]
    }
   ],
   "source": [
    "# We create a rank 1 ndarray that has evenly spaced integers from 1 to 13 in steps of 3.\n",
    "x = np.arange(1,14,3)\n",
    "\n",
    "# We print the ndarray\n",
    "print()\n",
    "print('x = ', x)\n",
    "print()\n",
    "\n",
    "# We print information about the ndarray\n",
    "print('x has dimensions:', x.shape)\n",
    "print('x is an object of type:', type(x))\n",
    "print('The elements in x are of type:', x.dtype) "
   ]
  },
  {
   "cell_type": "markdown",
   "id": "2217ef80-f1d8-493a-80a6-b8faf46ad6cf",
   "metadata": {},
   "source": [
    "We can see that **x** has sequential integers between **1** and **13**, but the difference between all adjacent values is **3**.\n",
    "\n",
    "Even though the `np.arange()` function allows for non-integer steps, such as **0.3**, the output is usually inconsistent due to finite floating-point precision. For this reason, in cases where non-integer steps are required, it is usually better to use the function `np.linspace()`.\n",
    "\n",
    "The `np.linspace(start, stop, N)` function returns **N** evenly spaced numbers over the closed interval \\([ \\text{start}, \\text{stop} ]\\). This means that both the **start** and **stop** values are included. \n",
    "\n",
    "We should also note that the `np.linspace()` function needs to be called with at least two arguments in the form `np.linspace(start, stop)`. In this case, the default number of elements in the specified interval will be **N = 50**. \n",
    "\n",
    "The reason `np.linspace()` works better than the `np.arange()` function is that `np.linspace()` uses the number of elements we want in a particular interval instead of the step between values. \n",
    "\n",
    "Let's see some examples:\n"
   ]
  },
  {
   "cell_type": "code",
   "execution_count": 21,
   "id": "6e553466-3006-4fc0-b957-3bd2b2046c41",
   "metadata": {},
   "outputs": [
    {
     "name": "stdout",
     "output_type": "stream",
     "text": [
      "\n",
      "x = \n",
      " [ 0.          2.77777778  5.55555556  8.33333333 11.11111111 13.88888889\n",
      " 16.66666667 19.44444444 22.22222222 25.        ]\n",
      "\n",
      "x has dimensions: (10,)\n",
      "x is an object of type: <class 'numpy.ndarray'>\n",
      "The elements in x are of type: float64\n"
     ]
    }
   ],
   "source": [
    "# We create a rank 1 ndarray that has 10 integers evenly spaced between 0 and 25.\n",
    "x = np.linspace(0,25,10)\n",
    "\n",
    "# We print the ndarray\n",
    "print()\n",
    "print('x = \\n', x)\n",
    "print()\n",
    "\n",
    "# We print information about the ndarray\n",
    "print('x has dimensions:', x.shape)\n",
    "print('x is an object of type:', type(x))\n",
    "print('The elements in x are of type:', x.dtype) "
   ]
  },
  {
   "cell_type": "markdown",
   "id": "1f00d892-f559-4e7a-bc0f-d77254021f1c",
   "metadata": {},
   "source": [
    "As we can see from the above example, the function `np.linspace(0, 25, 10)` returns an `ndarray` with **10** evenly spaced numbers in the closed interval \\([0, 25]\\). We can also see that both the start and end points, **0** and **25** in this case, are included. \n",
    "\n",
    "However, you can let the endpoint of the interval be excluded (just like in the `np.arange()` function) by setting the keyword `endpoint=False` in the `np.linspace()` function. \n",
    "\n",
    "Let's create the same **x** `ndarray` we created above but now with the endpoint excluded:\n"
   ]
  },
  {
   "cell_type": "code",
   "execution_count": 22,
   "id": "41a2ef63-aacc-48a8-8108-78c6ae71638a",
   "metadata": {},
   "outputs": [
    {
     "name": "stdout",
     "output_type": "stream",
     "text": [
      "\n",
      "x =  [ 0.   2.5  5.   7.5 10.  12.5 15.  17.5 20.  22.5]\n",
      "\n",
      "x has dimensions: (10,)\n",
      "x is an object of type: <class 'numpy.ndarray'>\n",
      "The elements in x are of type: float64\n"
     ]
    }
   ],
   "source": [
    "# We create a rank 1 ndarray that has 10 integers evenly spaced between 0 and 25,\n",
    "# with 25 excluded.\n",
    "x = np.linspace(0,25,10, endpoint = False)\n",
    "\n",
    "# We print the ndarray\n",
    "print()\n",
    "print('x = ', x)\n",
    "print()\n",
    "\n",
    "# We print information about the ndarray\n",
    "print('x has dimensions:', x.shape)\n",
    "print('x is an object of type:', type(x))\n",
    "print('The elements in x are of type:', x.dtype) "
   ]
  },
  {
   "cell_type": "markdown",
   "id": "de05217b-e6ad-4924-ad62-564b41de212e",
   "metadata": {},
   "source": [
    "As we can see, because we have excluded the endpoint, the spacing between values had to change in order to fit **10** evenly spaced numbers in the given interval.\n",
    "\n",
    "So far, we have only used the built-in functions `np.arange()` and `np.linspace()` to create rank 1 `ndarrays`. However, we can use these functions to create rank 2 `ndarrays` of any shape by combining them with the `np.reshape()` function. The `np.reshape(ndarray, new_shape)` function converts the given `ndarray` into the specified **new_shape**. \n",
    "\n",
    "It is important to note that the **new_shape** should be compatible with the number of elements in the given `ndarray`. For example, you can convert a rank 1 `ndarray` with **6** elements into a **3 x 2** rank 2 `ndarray`, or a **2 x 3** rank 2 `ndarray`, since both of these rank 2 arrays will have a total of **6** elements. However, you can't reshape the rank 1 `ndarray` with **6** elements into a **3 x 3** rank 2 `ndarray`, since this rank 2 array will have **9** elements, which is greater than the number of elements in the original `ndarray`.\n",
    "\n",
    "Let's see some examples:\n"
   ]
  },
  {
   "cell_type": "code",
   "execution_count": 24,
   "id": "946034d0-dd3b-4e0c-b23e-175a46f7a310",
   "metadata": {},
   "outputs": [
    {
     "name": "stdout",
     "output_type": "stream",
     "text": [
      "\n",
      "Original x =  [ 0  1  2  3  4  5  6  7  8  9 10 11 12 13 14 15 16 17 18 19]\n",
      "\n",
      "\n",
      "Reshaped x = \n",
      " [[ 0  1  2  3  4]\n",
      " [ 5  6  7  8  9]\n",
      " [10 11 12 13 14]\n",
      " [15 16 17 18 19]]\n",
      "\n",
      "x has dimensions: (4, 5)\n",
      "x is an object of type: <class 'numpy.ndarray'>\n",
      "The elements in x are of type: int32\n"
     ]
    }
   ],
   "source": [
    "# We create a rank 1 ndarray with sequential integers from 0 to 19\n",
    "x = np.arange(20)\n",
    "\n",
    "# We print x\n",
    "print()\n",
    "print('Original x = ', x)\n",
    "print()\n",
    "\n",
    "# We reshape x into a 4 x 5 ndarray \n",
    "x = np.reshape(x, (4,5))\n",
    "\n",
    "# We print the reshaped x\n",
    "print()\n",
    "print('Reshaped x = \\n', x)\n",
    "print()\n",
    "\n",
    "# We print information about the reshaped x\n",
    "print('x has dimensions:', x.shape)\n",
    "print('x is an object of type:', type(x))\n",
    "print('The elements in x are of type:', x.dtype) "
   ]
  },
  {
   "cell_type": "markdown",
   "id": "014223bb-c67d-4b8e-885f-1c4c645f51bc",
   "metadata": {},
   "source": [
    "One great feature about NumPy is that some functions can also be applied as methods. This allows us to apply different functions in sequence in just one line of code. \n",
    "\n",
    "`ndarray` methods are similar to `ndarray` attributes in that they are both applied using dot notation (**.**). \n",
    "\n",
    "Let's see how we can accomplish the same result as in the above example, but in just one line of code:\n"
   ]
  },
  {
   "cell_type": "code",
   "execution_count": 25,
   "id": "bcfb8b59-f77c-40f5-aa46-03218022e8a1",
   "metadata": {},
   "outputs": [
    {
     "name": "stdout",
     "output_type": "stream",
     "text": [
      "\n",
      "Y = \n",
      " [[ 0  1  2  3  4]\n",
      " [ 5  6  7  8  9]\n",
      " [10 11 12 13 14]\n",
      " [15 16 17 18 19]]\n",
      "\n",
      "Y has dimensions: (4, 5)\n",
      "Y is an object of type: <class 'numpy.ndarray'>\n",
      "The elements in Y are of type: int32\n"
     ]
    }
   ],
   "source": [
    "# We create a a rank 1 ndarray with sequential integers from 0 to 19 and\n",
    "# reshape it to a 4 x 5 array \n",
    "Y = np.arange(20).reshape(4, 5)\n",
    "\n",
    "# We print Y\n",
    "print()\n",
    "print('Y = \\n', Y)\n",
    "print()\n",
    "\n",
    "# We print information about Y\n",
    "print('Y has dimensions:', Y.shape)\n",
    "print('Y is an object of type:', type(Y))\n",
    "print('The elements in Y are of type:', Y.dtype) "
   ]
  },
  {
   "cell_type": "markdown",
   "id": "0f64b681-6b39-4a07-9f0d-c273bdecad36",
   "metadata": {},
   "source": [
    "As we can see, we get the exact same result as before. Notice that when we use `reshape()` as a method, it's applied as `ndarray.reshape(new_shape)`. This converts the `ndarray` into the specified shape **new_shape**. \n",
    "\n",
    "As before, it is important to note that the **new_shape** should be compatible with the number of elements in the `ndarray`. In the example above, the function `np.arange(20)` creates an `ndarray` and serves as the `ndarray` to be reshaped by the `reshape()` method. Therefore, when using `reshape()` as a method, we don't need to pass the `ndarray` as an argument to the `reshape()` function; instead, we only need to pass the **new_shape** argument.\n",
    "\n",
    "In the same manner, we can also combine `reshape()` with `np.linspace()` to create rank 2 arrays, as shown in the next example:\n"
   ]
  },
  {
   "cell_type": "code",
   "execution_count": 26,
   "id": "0272c10c-0ffe-4777-a528-f81cefeb081a",
   "metadata": {},
   "outputs": [
    {
     "name": "stdout",
     "output_type": "stream",
     "text": [
      "\n",
      "X = \n",
      " [[ 0.  5.]\n",
      " [10. 15.]\n",
      " [20. 25.]\n",
      " [30. 35.]\n",
      " [40. 45.]]\n",
      "\n",
      "X has dimensions: (5, 2)\n",
      "X is an object of type: <class 'numpy.ndarray'>\n",
      "The elements in X are of type: float64\n"
     ]
    }
   ],
   "source": [
    "# We create a rank 1 ndarray with 10 integers evenly spaced between 0 and 50,\n",
    "# with 50 excluded. We then reshape it to a 5 x 2 ndarray\n",
    "X = np.linspace(0,50,10, endpoint=False).reshape(5,2)\n",
    "\n",
    "# We print X\n",
    "print()\n",
    "print('X = \\n', X)\n",
    "print()\n",
    "\n",
    "# We print information about X\n",
    "print('X has dimensions:', X.shape)\n",
    "print('X is an object of type:', type(X))\n",
    "print('The elements in X are of type:', X.dtype)"
   ]
  },
  {
   "cell_type": "markdown",
   "id": "33b58776-4b76-4e47-b54c-d64e06c308a2",
   "metadata": {},
   "source": [
    "The last type of `ndarrays` we are going to create are **random ndarrays**. Random `ndarrays` are arrays that contain random numbers. Often in Machine Learning, you need to create random matrices, for example, when initializing the weights of a Neural Network. \n",
    "\n",
    "NumPy offers a variety of random functions to help us create random `ndarrays` of any shape.\n",
    "\n",
    "Let's start by using the `np.random.random(shape)` function to create an `ndarray` of the given shape with random floats in the half-open interval \\([0.0, 1.0)\\).\n"
   ]
  },
  {
   "cell_type": "code",
   "execution_count": 27,
   "id": "f1ada78b-35d2-42c7-a63f-99a54711ac17",
   "metadata": {},
   "outputs": [
    {
     "name": "stdout",
     "output_type": "stream",
     "text": [
      "\n",
      "X = \n",
      " [[0.49933453 0.20267614 0.92647153]\n",
      " [0.71588819 0.40852991 0.58173437]\n",
      " [0.99557679 0.899992   0.02002869]]\n",
      "\n",
      "X has dimensions: (3, 3)\n",
      "X is an object of type: <class 'numpy.ndarray'>\n",
      "The elements in x are of type: float64\n"
     ]
    }
   ],
   "source": [
    "# We create a 3 x 3 ndarray with random floats in the half-open interval [0.0, 1.0).\n",
    "X = np.random.random((3,3))\n",
    "\n",
    "# We print X\n",
    "print()\n",
    "print('X = \\n', X)\n",
    "print()\n",
    "\n",
    "# We print information about X\n",
    "print('X has dimensions:', X.shape)\n",
    "print('X is an object of type:', type(X))\n",
    "print('The elements in x are of type:', X.dtype)"
   ]
  },
  {
   "cell_type": "markdown",
   "id": "f4ea5d35-4ad9-4b2f-8d73-d9cd92431970",
   "metadata": {},
   "source": [
    "NumPy also allows us to create `ndarrays` with random integers within a particular interval. The function `np.random.randint(start, stop, size=shape)` creates an `ndarray` of the given shape with random integers in the half-open interval \\([ \\text{start}, \\text{stop} )\\). \n",
    "\n",
    "Let's see an example:\n"
   ]
  },
  {
   "cell_type": "code",
   "execution_count": 28,
   "id": "4fef3d0b-85ae-4745-bd15-afa660748bae",
   "metadata": {},
   "outputs": [
    {
     "name": "stdout",
     "output_type": "stream",
     "text": [
      "\n",
      "X = \n",
      " [[ 7 12]\n",
      " [ 4  9]\n",
      " [ 4  6]]\n",
      "\n",
      "X has dimensions: (3, 2)\n",
      "X is an object of type: <class 'numpy.ndarray'>\n",
      "The elements in X are of type: int32\n"
     ]
    }
   ],
   "source": [
    "# We create a 3 x 2 ndarray with random integers in the half-open interval [4, 15).\n",
    "X = np.random.randint(4,15,size=(3,2))\n",
    "\n",
    "# We print X\n",
    "print()\n",
    "print('X = \\n', X)\n",
    "print()\n",
    "\n",
    "# We print information about X\n",
    "print('X has dimensions:', X.shape)\n",
    "print('X is an object of type:', type(X))\n",
    "print('The elements in X are of type:', X.dtype)"
   ]
  },
  {
   "cell_type": "markdown",
   "id": "ece1c094-4b7b-4e69-b830-0b93f46a5211",
   "metadata": {},
   "source": [
    "In some cases, you may need to create `ndarrays` with random numbers that satisfy certain statistical properties. For example, you may want the random numbers in the `ndarray` to have an average of **0**. \n",
    "\n",
    "NumPy allows you to create random `ndarrays` with numbers drawn from various probability distributions. The function `np.random.normal(mean, standard deviation, size=shape)`, for example, creates an `ndarray` with the given shape that contains random numbers picked from a normal (Gaussian) distribution with the specified **mean** and **standard deviation**.\n",
    "\n",
    "Let's create a **1,000 x 1,000** `ndarray` of random floating-point numbers drawn from a normal distribution with a mean (average) of **zero** and a standard deviation of **0.1**.\n"
   ]
  },
  {
   "cell_type": "code",
   "execution_count": 29,
   "id": "72b08db1-a42e-4c97-96a4-62d0a0d723cf",
   "metadata": {},
   "outputs": [
    {
     "name": "stdout",
     "output_type": "stream",
     "text": [
      "\n",
      "X = \n",
      " [[ 0.03045228  0.02413018 -0.02247063 ...  0.02119965 -0.18633778\n",
      "  -0.00719837]\n",
      " [ 0.01267015  0.00844708 -0.02335088 ... -0.04915412  0.04993636\n",
      "   0.08875049]\n",
      " [-0.11815497 -0.05192407 -0.00237234 ... -0.0826022  -0.0446146\n",
      "   0.03368957]\n",
      " ...\n",
      " [-0.00352433 -0.09685225 -0.02132368 ... -0.10275485 -0.06271422\n",
      "  -0.11825549]\n",
      " [ 0.11410412  0.02317583 -0.0475776  ...  0.02443173  0.06866853\n",
      "   0.08743631]\n",
      " [-0.12896075 -0.00685277  0.06829483 ...  0.04151714 -0.20479053\n",
      "  -0.04626453]]\n",
      "\n",
      "X has dimensions: (1000, 1000)\n",
      "X is an object of type: <class 'numpy.ndarray'>\n",
      "The elements in X are of type: float64\n",
      "The elements in X have a mean of: -0.0001518962354269824\n",
      "The maximum value in X is: 0.4875314710554345\n",
      "The minimum value in X is: -0.4658913945203293\n",
      "X has 500386 negative numbers\n",
      "X has 499614 positive numbers\n"
     ]
    }
   ],
   "source": [
    "# We create a 1000 x 1000 ndarray of random floats drawn from normal (Gaussian) distribution\n",
    "# with a mean of zero and a standard deviation of 0.1.\n",
    "X = np.random.normal(0, 0.1, size=(1000,1000))\n",
    "\n",
    "# We print X\n",
    "print()\n",
    "print('X = \\n', X)\n",
    "print()\n",
    "\n",
    "# We print information about X\n",
    "print('X has dimensions:', X.shape)\n",
    "print('X is an object of type:', type(X))\n",
    "print('The elements in X are of type:', X.dtype)\n",
    "print('The elements in X have a mean of:', X.mean())\n",
    "print('The maximum value in X is:', X.max())\n",
    "print('The minimum value in X is:', X.min())\n",
    "print('X has', (X < 0).sum(), 'negative numbers')\n",
    "print('X has', (X > 0).sum(), 'positive numbers')"
   ]
  },
  {
   "cell_type": "markdown",
   "id": "329a2112-550c-424d-befd-ad62a5ce523d",
   "metadata": {},
   "source": [
    "As we can see, the average of the random numbers in the `ndarray` is close to **zero**. Both the maximum and minimum values in **X** are symmetric about zero (the average), and we have about the same amount of positive and negative numbers.\n"
   ]
  },
  {
   "cell_type": "markdown",
   "id": "941ef7c1-6f26-4ac9-b8a0-8c8ab294bd8b",
   "metadata": {},
   "source": [
    "## Accessing, Deleting, and Inserting Elements Into ndarrays\n",
    "\n",
    "Now that you know how to create a variety of `ndarrays`, we will see how NumPy allows us to effectively manipulate the data within them. \n",
    "\n",
    "**NumPy ndarrays are mutable**, meaning that the elements in `ndarrays` can be changed after the array has been created. Additionally, `ndarrays` can be **sliced**, which allows us to split them in many different ways. This feature enables us to retrieve any subset of the `ndarray` that we want. \n",
    "\n",
    "Often in Machine Learning, you will use slicing to separate data, such as when dividing a data set into **training**, **cross-validation**, and **testing** sets.\n",
    "\n",
    "### Accessing Elements\n",
    "\n",
    "We will start by looking at how the elements of an `ndarray` can be accessed or modified by indexing. Elements can be accessed using indices inside square brackets \\([ ]\\). \n",
    "\n",
    "NumPy allows you to use both **positive** and **negative indices** to access elements in the `ndarray`. Positive indices are used to access elements from the **beginning** of the array, while negative indices are used to access elements from the **end** of the array. \n",
    "\n",
    "Let's see how we can access elements in **rank 1 ndarrays**:\n"
   ]
  },
  {
   "cell_type": "code",
   "execution_count": 30,
   "id": "1eb9c5dd-e7e0-483d-94f7-3743bf05cb64",
   "metadata": {},
   "outputs": [
    {
     "name": "stdout",
     "output_type": "stream",
     "text": [
      "\n",
      "x =  [1 2 3 4 5]\n",
      "\n",
      "This is First Element in x: 1\n",
      "This is Second Element in x: 2\n",
      "This is Fifth (Last) Element in x: 5\n",
      "\n",
      "This is First Element in x: 1\n",
      "This is Second Element in x: 2\n",
      "This is Fifth (Last) Element in x: 5\n"
     ]
    }
   ],
   "source": [
    "# We create a rank 1 ndarray that contains integers from 1 to 5\n",
    "x = np.array([1, 2, 3, 4, 5])\n",
    "\n",
    "# We print x\n",
    "print()\n",
    "print('x = ', x)\n",
    "print()\n",
    "\n",
    "# Let's access some elements with positive indices\n",
    "print('This is First Element in x:', x[0]) \n",
    "print('This is Second Element in x:', x[1])\n",
    "print('This is Fifth (Last) Element in x:', x[4])\n",
    "print()\n",
    "\n",
    "# Let's access the same elements with negative indices\n",
    "print('This is First Element in x:', x[-5])\n",
    "print('This is Second Element in x:', x[-4])\n",
    "print('This is Fifth (Last) Element in x:', x[-1])"
   ]
  },
  {
   "cell_type": "markdown",
   "id": "ea040092-a56e-4ee1-af57-0e8beaf12c5d",
   "metadata": {},
   "source": [
    "Notice that to access the **first element** in the `ndarray`, we have to use the index **0**, not **1**. Additionally, the same element can be accessed using both **positive** and **negative indices**. As mentioned earlier, positive indices are used to access elements from the **beginning** of the array, while negative indices are used to access elements from the **end** of the array.\n",
    "\n",
    "### Changing Elements\n",
    "\n",
    "Now let's see how we can change the elements in **rank 1 ndarrays**. We do this by accessing the element we want to change and then using the **`=`** sign to assign the new value:\n"
   ]
  },
  {
   "cell_type": "code",
   "execution_count": 31,
   "id": "4daa4d6f-abd8-4303-bb90-c7a49cfd5800",
   "metadata": {},
   "outputs": [
    {
     "name": "stdout",
     "output_type": "stream",
     "text": [
      "\n",
      "Original:\n",
      " x =  [1 2 3 4 5]\n",
      "\n",
      "Modified:\n",
      " x =  [ 1  2  3 20  5]\n"
     ]
    }
   ],
   "source": [
    "# We create a rank 1 ndarray that contains integers from 1 to 5\n",
    "x = np.array([1, 2, 3, 4, 5])\n",
    "\n",
    "# We print the original x\n",
    "print()\n",
    "print('Original:\\n x = ', x)\n",
    "print()\n",
    "\n",
    "# We change the fourth element in x from 4 to 20\n",
    "x[3] = 20\n",
    "\n",
    "# We print x after it was modified \n",
    "print('Modified:\\n x = ', x)"
   ]
  },
  {
   "cell_type": "markdown",
   "id": "5b088708-e259-4092-9efa-aa4773bf329b",
   "metadata": {},
   "source": [
    "Similarly, we can also access and modify specific elements of **rank 2 ndarrays**. To access elements in **rank 2 ndarrays**, we need to provide **2 indices** in the form \\([ \\text{row}, \\text{column} ]\\). \n",
    "\n",
    "### Accessing Elements in Rank 2 ndarrays\n",
    "\n",
    "Let's see some examples:\n"
   ]
  },
  {
   "cell_type": "code",
   "execution_count": 32,
   "id": "4fcca1a6-4a37-4f1e-bc7d-d7bc3f3c4228",
   "metadata": {},
   "outputs": [
    {
     "name": "stdout",
     "output_type": "stream",
     "text": [
      "\n",
      "X = \n",
      " [[1 2 3]\n",
      " [4 5 6]\n",
      " [7 8 9]]\n",
      "\n",
      "This is (0,0) Element in X: 1\n",
      "This is (0,1) Element in X: 2\n",
      "This is (2,2) Element in X: 9\n"
     ]
    }
   ],
   "source": [
    "# We create a 3 x 3 rank 2 ndarray that contains integers from 1 to 9\n",
    "X = np.array([[1,2,3],[4,5,6],[7,8,9]])\n",
    "\n",
    "# We print X\n",
    "print()\n",
    "print('X = \\n', X)\n",
    "print()\n",
    "\n",
    "# Let's access some elements in X\n",
    "print('This is (0,0) Element in X:', X[0,0])\n",
    "print('This is (0,1) Element in X:', X[0,1])\n",
    "print('This is (2,2) Element in X:', X[2,2])"
   ]
  },
  {
   "cell_type": "markdown",
   "id": "e44780fc-0995-44b3-a3c1-2a0e0b3abfe1",
   "metadata": {},
   "source": [
    "Remember that the index \\([0, 0]\\) refers to the element in the **first row**, **first column**.\n",
    "\n",
    "### Modifying Elements in Rank 2 ndarrays\n",
    "\n",
    "Elements in **rank 2 ndarrays** can be modified in the same way as with **rank 1 ndarrays**. Let's see an example:\n"
   ]
  },
  {
   "cell_type": "code",
   "execution_count": 33,
   "id": "4b1523bb-76cc-43ef-9bae-3820bf0a592f",
   "metadata": {},
   "outputs": [
    {
     "name": "stdout",
     "output_type": "stream",
     "text": [
      "\n",
      "Original:\n",
      " X = \n",
      " [[1 2 3]\n",
      " [4 5 6]\n",
      " [7 8 9]]\n",
      "\n",
      "Modified:\n",
      " X = \n",
      " [[20  2  3]\n",
      " [ 4  5  6]\n",
      " [ 7  8  9]]\n"
     ]
    }
   ],
   "source": [
    "# We create a 3 x 3 rank 2 ndarray that contains integers from 1 to 9\n",
    "X = np.array([[1,2,3],[4,5,6],[7,8,9]])\n",
    "\n",
    "# We print the original x\n",
    "print()\n",
    "print('Original:\\n X = \\n', X)\n",
    "print()\n",
    "\n",
    "# We change the (0,0) element in X from 1 to 20\n",
    "X[0,0] = 20\n",
    "\n",
    "# We print X after it was modified \n",
    "print('Modified:\\n X = \\n', X)"
   ]
  },
  {
   "cell_type": "markdown",
   "id": "c6bf1987-0f78-4687-9f38-e12655cf4e2f",
   "metadata": {},
   "source": [
    "Now, let's take a look at how we can **add** and **delete** elements from `ndarrays`. \n",
    "\n",
    "### Deleting Elements\n",
    "\n",
    "We can delete elements using the **`np.delete(ndarray, elements, axis)`** function. This function deletes the given list of elements from the specified `ndarray` along the specified axis. \n",
    "\n",
    "- For **rank 1 ndarrays**, the **axis** keyword is not required.\n",
    "- For **rank 2 ndarrays**, **`axis = 0`** is used to select **rows**, and **`axis = 1`** is used to select **columns**.\n",
    "\n",
    "Let's see some examples:\n"
   ]
  },
  {
   "cell_type": "code",
   "execution_count": 34,
   "id": "eabfc3c6-3d47-40ae-868a-f0b90c526ab9",
   "metadata": {},
   "outputs": [
    {
     "name": "stdout",
     "output_type": "stream",
     "text": [
      "\n",
      "Original x =  [1 2 3 4 5]\n",
      "\n",
      "Modified x =  [2 3 4]\n",
      "\n",
      "Original Y = \n",
      " [[1 2 3]\n",
      " [4 5 6]\n",
      " [7 8 9]]\n",
      "\n",
      "w = \n",
      " [[4 5 6]\n",
      " [7 8 9]]\n",
      "\n",
      "v = \n",
      " [[2]\n",
      " [5]\n",
      " [8]]\n"
     ]
    }
   ],
   "source": [
    "# We create a rank 1 ndarray \n",
    "x = np.array([1, 2, 3, 4, 5])\n",
    "\n",
    "# We create a rank 2 ndarray\n",
    "Y = np.array([[1,2,3],[4,5,6],[7,8,9]])\n",
    "\n",
    "# We print x\n",
    "print()\n",
    "print('Original x = ', x)\n",
    "\n",
    "# We delete the first and last element of x\n",
    "x = np.delete(x, [0,4])\n",
    "\n",
    "# We print x with the first and last element deleted\n",
    "print()\n",
    "print('Modified x = ', x)\n",
    "\n",
    "# We print Y\n",
    "print()\n",
    "print('Original Y = \\n', Y)\n",
    "\n",
    "# We delete the first row of y\n",
    "w = np.delete(Y, 0, axis=0)\n",
    "\n",
    "# We delete the first and last column of y\n",
    "v = np.delete(Y, [0,2], axis=1)\n",
    "\n",
    "# We print w\n",
    "print()\n",
    "print('w = \\n', w)\n",
    "\n",
    "# We print v\n",
    "print()\n",
    "print('v = \\n', v)"
   ]
  },
  {
   "cell_type": "markdown",
   "id": "e0886bd8-8318-4f62-b2e6-e40da52f0070",
   "metadata": {},
   "source": [
    "Now, let's see how we can **append values** to `ndarrays`. \n",
    "\n",
    "### Appending Values\n",
    "\n",
    "We can append values to `ndarrays` using the **`np.append(ndarray, elements, axis)`** function. This function appends the given list of elements to the `ndarray` along the specified axis. \n",
    "\n",
    "Let's see some examples:\n"
   ]
  },
  {
   "cell_type": "code",
   "execution_count": 35,
   "id": "71a46a93-c2f9-4851-bc99-d3233acc999f",
   "metadata": {},
   "outputs": [
    {
     "name": "stdout",
     "output_type": "stream",
     "text": [
      "\n",
      "Original x =  [1 2 3 4 5]\n",
      "\n",
      "x =  [1 2 3 4 5 6]\n",
      "\n",
      "x =  [1 2 3 4 5 6 7 8]\n",
      "\n",
      "Original Y = \n",
      " [[1 2 3]\n",
      " [4 5 6]]\n",
      "\n",
      "v = \n",
      " [[1 2 3]\n",
      " [4 5 6]\n",
      " [7 8 9]]\n",
      "\n",
      "q = \n",
      " [[ 1  2  3  9]\n",
      " [ 4  5  6 10]]\n"
     ]
    }
   ],
   "source": [
    "# We create a rank 1 ndarray \n",
    "x = np.array([1, 2, 3, 4, 5])\n",
    "\n",
    "# We create a rank 2 ndarray \n",
    "Y = np.array([[1,2,3],[4,5,6]])\n",
    "\n",
    "# We print x\n",
    "print()\n",
    "print('Original x = ', x)\n",
    "\n",
    "# We append the integer 6 to x\n",
    "x = np.append(x, 6)\n",
    "\n",
    "# We print x\n",
    "print()\n",
    "print('x = ', x)\n",
    "\n",
    "# We append the integer 7 and 8 to x\n",
    "x = np.append(x, [7,8])\n",
    "\n",
    "# We print x\n",
    "print()\n",
    "print('x = ', x)\n",
    "\n",
    "# We print Y\n",
    "print()\n",
    "print('Original Y = \\n', Y)\n",
    "\n",
    "# We append a new row containing 7,8,9 to y\n",
    "v = np.append(Y, [[7,8,9]], axis=0)\n",
    "\n",
    "# We append a new column containing 9 and 10 to y\n",
    "q = np.append(Y,[[9],[10]], axis=1)\n",
    "\n",
    "# We print v\n",
    "print()\n",
    "print('v = \\n', v)\n",
    "\n",
    "# We print q\n",
    "print()\n",
    "print('q = \\n', q)"
   ]
  },
  {
   "cell_type": "markdown",
   "id": "db5b3e1a-02c6-4234-a76d-1774d66cc59c",
   "metadata": {},
   "source": [
    "Notice that when appending **rows** or **columns** to **rank 2 ndarrays**, the rows or columns must have the **correct shape** to match the shape of the **rank 2 ndarray**.\n",
    "\n",
    "### Inserting Values\n",
    "\n",
    "Now let's see how we can **insert values** to `ndarrays`. We can insert values using the **`np.insert(ndarray, index, elements, axis)`** function. This function inserts the given list of elements into the `ndarray` right before the specified index along the specified axis.\n",
    "\n",
    "Let's see some examples:\n"
   ]
  },
  {
   "cell_type": "code",
   "execution_count": 36,
   "id": "6bfc293b-0dc7-4e2a-ab92-59b1e9dad676",
   "metadata": {},
   "outputs": [
    {
     "name": "stdout",
     "output_type": "stream",
     "text": [
      "\n",
      "Original x =  [1 2 5 6 7]\n",
      "\n",
      "x =  [1 2 3 4 5 6 7]\n",
      "\n",
      "Original Y = \n",
      " [[1 2 3]\n",
      " [7 8 9]]\n",
      "\n",
      "w = \n",
      " [[1 2 3]\n",
      " [4 5 6]\n",
      " [7 8 9]]\n",
      "\n",
      "v = \n",
      " [[1 5 2 3]\n",
      " [7 5 8 9]]\n"
     ]
    }
   ],
   "source": [
    "# We create a rank 1 ndarray \n",
    "x = np.array([1, 2, 5, 6, 7])\n",
    "\n",
    "# We create a rank 2 ndarray \n",
    "Y = np.array([[1,2,3],[7,8,9]])\n",
    "\n",
    "# We print x\n",
    "print()\n",
    "print('Original x = ', x)\n",
    "\n",
    "# We insert the integer 3 and 4 between 2 and 5 in x. \n",
    "x = np.insert(x,2,[3,4])\n",
    "\n",
    "# We print x with the inserted elements\n",
    "print()\n",
    "print('x = ', x)\n",
    "\n",
    "# We print Y\n",
    "print()\n",
    "print('Original Y = \\n', Y)\n",
    "\n",
    "# We insert a row between the first and last row of y\n",
    "w = np.insert(Y,1,[4,5,6],axis=0)\n",
    "\n",
    "# We insert a column full of 5s between the first and second column of y\n",
    "v = np.insert(Y,1,5, axis=1)\n",
    "\n",
    "# We print w\n",
    "print()\n",
    "print('w = \\n', w)\n",
    "\n",
    "# We print v\n",
    "print()\n",
    "print('v = \\n', v)"
   ]
  },
  {
   "cell_type": "markdown",
   "id": "3a0801c4-4704-4e11-8188-0448b77b1ffe",
   "metadata": {},
   "source": [
    "NumPy also allows us to **stack ndarrays** on top of each other or side by side. The stacking is done using:\n",
    "\n",
    "- **`np.vstack()`** function for **vertical stacking**\n",
    "- **`np.hstack()`** function for **horizontal stacking**\n",
    "\n",
    "### Important Note\n",
    "It is important to note that in order to stack `ndarrays`, the shape of the `ndarrays` must match.\n",
    "\n",
    "Let's see some examples:\n"
   ]
  },
  {
   "cell_type": "code",
   "execution_count": 37,
   "id": "a079bc0b-8e6c-4374-9522-080d7399e99b",
   "metadata": {},
   "outputs": [
    {
     "name": "stdout",
     "output_type": "stream",
     "text": [
      "\n",
      "x =  [1 2]\n",
      "\n",
      "Y = \n",
      " [[3 4]\n",
      " [5 6]]\n",
      "\n",
      "z = \n",
      " [[1 2]\n",
      " [3 4]\n",
      " [5 6]]\n",
      "\n",
      "w = \n",
      " [[3 4 1]\n",
      " [5 6 2]]\n"
     ]
    }
   ],
   "source": [
    "# We create a rank 1 ndarray \n",
    "x = np.array([1,2])\n",
    "\n",
    "# We create a rank 2 ndarray \n",
    "Y = np.array([[3,4],[5,6]])\n",
    "\n",
    "# We print x\n",
    "print()\n",
    "print('x = ', x)\n",
    "\n",
    "# We print Y\n",
    "print()\n",
    "print('Y = \\n', Y)\n",
    "\n",
    "# We stack x on top of Y\n",
    "z = np.vstack((x,Y))\n",
    "\n",
    "# We stack x on the right of Y. We need to reshape x in order to stack it on the right of Y. \n",
    "w = np.hstack((Y,x.reshape(2,1)))\n",
    "\n",
    "# We print z\n",
    "print()\n",
    "print('z = \\n', z)\n",
    "\n",
    "# We print w\n",
    "print()\n",
    "print('w = \\n', w)"
   ]
  },
  {
   "cell_type": "markdown",
   "id": "43c18841-90d1-46f0-824b-b4d77d8723ef",
   "metadata": {},
   "source": [
    "## Slicing ndarrays\n",
    "\n",
    "As we mentioned earlier, in addition to being able to access **individual elements** one at a time, NumPy provides a way to access **subsets** of `ndarrays`. This is known as **slicing**. Slicing is performed by combining indices with the colon `:` symbol inside the square brackets. In general, you will come across three types of slicing:\n",
    "\n",
    "1. **`ndarray[start:end]`**\n",
    "2. **`ndarray[start:]`**\n",
    "3. **`ndarray[:end]`**\n",
    "\n",
    "### Explanation\n",
    "- The **first method** is used to select elements **between** the start and end indices.\n",
    "- The **second method** is used to select all elements from the start index **till** the last index.\n",
    "- The **third method** is used to select all elements from the first index **till** the end index.\n",
    "\n",
    "**Important Note:** In methods one and three, the end index is **excluded**. Since `ndarrays` can be **multidimensional**, when doing slicing you usually have to specify a slice for **each dimension** of the array.\n",
    "\n",
    "Now, let's see some examples of how to use the above methods to select different subsets of a **rank 2 ndarray**.\n"
   ]
  },
  {
   "cell_type": "code",
   "execution_count": 39,
   "id": "37c3f9d0-3f35-432f-a58f-005a6e5adcc1",
   "metadata": {},
   "outputs": [
    {
     "name": "stdout",
     "output_type": "stream",
     "text": [
      "\n",
      "X = \n",
      " [[ 0  1  2  3  4]\n",
      " [ 5  6  7  8  9]\n",
      " [10 11 12 13 14]\n",
      " [15 16 17 18 19]]\n",
      "\n",
      "Z = \n",
      " [[ 7  8  9]\n",
      " [12 13 14]\n",
      " [17 18 19]]\n",
      "\n",
      "W = \n",
      " [[ 7  8  9]\n",
      " [12 13 14]\n",
      " [17 18 19]]\n",
      "\n",
      "Y = \n",
      " [[ 2  3  4]\n",
      " [ 7  8  9]\n",
      " [12 13 14]]\n",
      "\n",
      "v =  [10 11 12 13 14]\n",
      "\n",
      "q =  [ 2  7 12 17]\n",
      "\n",
      "R = \n",
      " [[ 2]\n",
      " [ 7]\n",
      " [12]\n",
      " [17]]\n"
     ]
    }
   ],
   "source": [
    "# We create a 4 x 5 ndarray that contains integers from 0 to 19\n",
    "X = np.arange(20).reshape(4, 5)\n",
    "\n",
    "# We print X\n",
    "print()\n",
    "print('X = \\n', X)\n",
    "print()\n",
    "\n",
    "# We select all the elements that are in the 2nd through 4th rows and in the 3rd to 5th columns\n",
    "Z = X[1:4,2:5]\n",
    "\n",
    "# We print Z\n",
    "print('Z = \\n', Z)\n",
    "\n",
    "# We can select the same elements as above using method 2\n",
    "W = X[1:,2:5]\n",
    "\n",
    "# We print W\n",
    "print()\n",
    "print('W = \\n', W)\n",
    "\n",
    "# We select all the elements that are in the 1st through 3rd rows and in the 3rd to 4th columns\n",
    "Y = X[:3,2:5]\n",
    "\n",
    "# We print Y\n",
    "print()\n",
    "print('Y = \\n', Y)\n",
    "\n",
    "# We select all the elements in the 3rd row\n",
    "v = X[2,:]\n",
    "\n",
    "# We print v\n",
    "print()\n",
    "print('v = ', v)\n",
    "\n",
    "# We select all the elements in the 3rd column\n",
    "q = X[:,2]\n",
    "\n",
    "# We print q\n",
    "print()\n",
    "print('q = ', q)\n",
    "\n",
    "# We select all the elements in the 3rd column but return a rank 2 ndarray\n",
    "R = X[:,2:3]\n",
    "\n",
    "# We print R\n",
    "print()\n",
    "print('R = \\n', R)"
   ]
  },
  {
   "cell_type": "markdown",
   "id": "4f545506-7c12-4e87-89c9-f25897e7a9f4",
   "metadata": {},
   "source": [
    "\n",
    "\n",
    "Notice that when we selected all the elements in the **3rd column**, the variable **q** returned a **rank 1 ndarray** instead of a **rank 2 ndarray**. However, slicing **X** in a slightly different way, as seen in variable **R**, allows us to obtain a **rank 2 ndarray**.\n",
    "\n",
    "### Important Note\n",
    "When we perform slices on `ndarrays` and save them into new variables, the data is **not copied** into the new variable. This is a common feature that can cause confusion for beginners. Let's delve into this concept a bit more.\n",
    "\n",
    "For instance, when we make assignments such as:\n",
    "\n",
    "```python\n",
    "Z = X[1:4, 2:5]\n",
    "```\n",
    "\n",
    "The slice of the original array **X** is not copied into the variable **Z**. Instead, **X** and **Z** are now just two different names for the **same ndarray**. We say that slicing only creates a **view** of the original array. This means that if you make changes in **Z**, you will be effectively changing the elements in **X** as well.\n",
    "\n",
    "### Example\n",
    "Let's illustrate this with an example:\n"
   ]
  },
  {
   "cell_type": "code",
   "execution_count": 40,
   "id": "beac54a4-0fab-4bd7-948e-a5c164fffb30",
   "metadata": {},
   "outputs": [
    {
     "name": "stdout",
     "output_type": "stream",
     "text": [
      "\n",
      "X = \n",
      " [[ 0  1  2  3  4]\n",
      " [ 5  6  7  8  9]\n",
      " [10 11 12 13 14]\n",
      " [15 16 17 18 19]]\n",
      "\n",
      "\n",
      "Z = \n",
      " [[ 7  8  9]\n",
      " [12 13 14]\n",
      " [17 18 19]]\n",
      "\n",
      "\n",
      "X = \n",
      " [[  0   1   2   3   4]\n",
      " [  5   6   7   8   9]\n",
      " [ 10  11  12  13  14]\n",
      " [ 15  16  17  18 555]]\n",
      "\n"
     ]
    }
   ],
   "source": [
    "# We create a 4 x 5 ndarray that contains integers from 0 to 19\n",
    "X = np.arange(20).reshape(4, 5)\n",
    "\n",
    "# We print X\n",
    "print()\n",
    "print('X = \\n', X)\n",
    "print()\n",
    "\n",
    "# We select all the elements that are in the 2nd through 4th rows and in the 3rd to 4th columns\n",
    "Z = X[1:4,2:5]\n",
    "\n",
    "# We print Z\n",
    "print()\n",
    "print('Z = \\n', Z)\n",
    "print()\n",
    "\n",
    "# We change the last element in Z to 555\n",
    "Z[2,2] = 555\n",
    "\n",
    "# We print X\n",
    "print()\n",
    "print('X = \\n', X)\n",
    "print()"
   ]
  },
  {
   "cell_type": "markdown",
   "id": "7fad1251-01f1-4d04-97f7-ace6516ece0a",
   "metadata": {},
   "source": [
    "\n",
    "\n",
    "We can clearly see in the above example that if we make changes to **Z**, **X** changes as well.\n",
    "\n",
    "### Creating a Copy of the ndarray\n",
    "If we want to create a new `ndarray` that contains a **copy** of the values in the slice, we need to use the `np.copy()` function. The `np.copy(ndarray)` function creates a copy of the given `ndarray`. This function can also be used as a method, similar to how we used the `reshape` function.\n",
    "\n",
    "### Example: Using np.copy()\n",
    "Let's do the same example we did before but now with copies of the arrays. We'll use `copy` both as a function and as a method. \n",
    "\n",
    "- **Creating a rank 2 ndarray**\n",
    "  \n",
    "- **Slicing a part of X and creating a copy using np.copy()**\n",
    "\n",
    "- **Slicing a part of X and creating a copy using the copy method**\n",
    "\n",
    "- **Display the original array and the copied array**\n",
    "\n",
    "- **Modifying the copied arrays**\n",
    "\n",
    "- **Display the arrays after modification**\n",
    "\n"
   ]
  },
  {
   "cell_type": "code",
   "execution_count": 41,
   "id": "4351853d-de99-420d-b10a-1e03144a41ae",
   "metadata": {},
   "outputs": [
    {
     "name": "stdout",
     "output_type": "stream",
     "text": [
      "\n",
      "X = \n",
      " [[ 0  1  2  3  4]\n",
      " [ 5  6  7  8  9]\n",
      " [10 11 12 13 14]\n",
      " [15 16 17 18 19]]\n",
      "\n",
      "\n",
      "X = \n",
      " [[ 0  1  2  3  4]\n",
      " [ 5  6  7  8  9]\n",
      " [10 11 12 13 14]\n",
      " [15 16 17 18 19]]\n",
      "\n",
      "Z = \n",
      " [[  7   8   9]\n",
      " [ 12  13  14]\n",
      " [ 17  18 555]]\n",
      "\n",
      "W = \n",
      " [[  7   8   9]\n",
      " [ 12  13  14]\n",
      " [ 17  18 444]]\n"
     ]
    }
   ],
   "source": [
    "# We create a 4 x 5 ndarray that contains integers from 0 to 19\n",
    "X = np.arange(20).reshape(4, 5)\n",
    "\n",
    "# We print X\n",
    "print()\n",
    "print('X = \\n', X)\n",
    "print()\n",
    "\n",
    "# create a copy of the slice using the np.copy() function\n",
    "Z = np.copy(X[1:4,2:5])\n",
    "\n",
    "#  create a copy of the slice using the copy as a method\n",
    "W = X[1:4,2:5].copy()\n",
    "\n",
    "# We change the last element in Z to 555\n",
    "Z[2,2] = 555\n",
    "\n",
    "# We change the last element in W to 444\n",
    "W[2,2] = 444\n",
    "\n",
    "# We print X\n",
    "print()\n",
    "print('X = \\n', X)\n",
    "\n",
    "# We print Z\n",
    "print()\n",
    "print('Z = \\n', Z)\n",
    "\n",
    "# We print W\n",
    "print()\n",
    "print('W = \\n', W)"
   ]
  },
  {
   "cell_type": "markdown",
   "id": "23964a1f-4d63-41a9-9a23-6f6e9417b337",
   "metadata": {},
   "source": [
    "\n",
    "\n",
    "We can clearly see that by using the **copy** command, we are creating new `ndarrays` that are completely independent of each other.\n",
    "\n",
    "### Using One ndarray to Manipulate Another\n",
    "It is often useful to use one `ndarray` to make slices, select, or change elements in another `ndarray`. Let's see some examples:\n"
   ]
  },
  {
   "cell_type": "code",
   "execution_count": 42,
   "id": "156d4cf7-49d4-4db7-8531-647e16880516",
   "metadata": {},
   "outputs": [
    {
     "name": "stdout",
     "output_type": "stream",
     "text": [
      "\n",
      "X = \n",
      " [[ 0  1  2  3  4]\n",
      " [ 5  6  7  8  9]\n",
      " [10 11 12 13 14]\n",
      " [15 16 17 18 19]]\n",
      "\n",
      "indices =  [1 3]\n",
      "\n",
      "\n",
      "Y = \n",
      " [[ 5  6  7  8  9]\n",
      " [15 16 17 18 19]]\n",
      "\n",
      "Z = \n",
      " [[ 1  3]\n",
      " [ 6  8]\n",
      " [11 13]\n",
      " [16 18]]\n"
     ]
    }
   ],
   "source": [
    "# We create a 4 x 5 ndarray that contains integers from 0 to 19\n",
    "X = np.arange(20).reshape(4, 5)\n",
    "\n",
    "# We create a rank 1 ndarray that will serve as indices to select elements from X\n",
    "indices = np.array([1,3])\n",
    "\n",
    "# We print X\n",
    "print()\n",
    "print('X = \\n', X)\n",
    "print()\n",
    "\n",
    "# We print indices\n",
    "print('indices = ', indices)\n",
    "print()\n",
    "\n",
    "# We use the indices ndarray to select the 2nd and 4th row of X\n",
    "Y = X[indices,:]\n",
    "\n",
    "# We use the indices ndarray to select the 2nd and 4th column of X\n",
    "Z = X[:, indices]\n",
    "\n",
    "# We print Y\n",
    "print()\n",
    "print('Y = \\n', Y)\n",
    "\n",
    "# We print Z\n",
    "print()\n",
    "print('Z = \\n', Z)"
   ]
  },
  {
   "cell_type": "markdown",
   "id": "f147349a-14e4-4ae0-ad91-7295efe78b1d",
   "metadata": {},
   "source": [
    "\n",
    "NumPy also offers built-in functions to select specific elements within `ndarrays`. For example, the `np.diag(ndarray, k=N)` function extracts the elements along the diagonal defined by N. As default is **k=0**, which refers to the main diagonal. Values of **k > 0** are used to select elements in diagonals above the main diagonal, and values of **k < 0** are used to select elements in diagonals below the main diagonal. Let's see an example:"
   ]
  },
  {
   "cell_type": "code",
   "execution_count": 43,
   "id": "bdcb6e04-9165-4e00-829d-8c9f7312296b",
   "metadata": {},
   "outputs": [
    {
     "name": "stdout",
     "output_type": "stream",
     "text": [
      "\n",
      "X = \n",
      " [[ 0  1  2  3  4]\n",
      " [ 5  6  7  8  9]\n",
      " [10 11 12 13 14]\n",
      " [15 16 17 18 19]\n",
      " [20 21 22 23 24]]\n",
      "\n",
      "z = [ 0  6 12 18 24]\n",
      "\n",
      "y = [ 1  7 13 19]\n",
      "\n",
      "w =  [ 5 11 17 23]\n"
     ]
    }
   ],
   "source": [
    "# We create a 4 x 5 ndarray that contains integers from 0 to 19\n",
    "X = np.arange(25).reshape(5, 5)\n",
    "\n",
    "# We print X\n",
    "print()\n",
    "print('X = \\n', X)\n",
    "print()\n",
    "\n",
    "# We print the elements in the main diagonal of X\n",
    "print('z =', np.diag(X))\n",
    "print()\n",
    "\n",
    "# We print the elements above the main diagonal of X\n",
    "print('y =', np.diag(X, k=1))\n",
    "print()\n",
    "\n",
    "# We print the elements below the main diagonal of X\n",
    "print('w = ', np.diag(X, k=-1))"
   ]
  },
  {
   "cell_type": "markdown",
   "id": "93d07f51-6da0-4e67-8289-570183cd75f2",
   "metadata": {},
   "source": [
    "It is often useful to extract only the unique elements in an `ndarray`. We can find the unique elements in an `ndarray` by using the `np.unique()` function. The `np.unique(ndarray)` function returns the unique elements in the given `ndarray`, as in the example below:\n",
    "\n"
   ]
  },
  {
   "cell_type": "code",
   "execution_count": 44,
   "id": "2a68737f-54bc-48e7-b92d-6379c059c5f3",
   "metadata": {},
   "outputs": [
    {
     "name": "stdout",
     "output_type": "stream",
     "text": [
      "\n",
      "X = \n",
      " [[1 2 3]\n",
      " [5 2 8]\n",
      " [1 2 3]]\n",
      "\n",
      "The unique elements in X are: [1 2 3 5 8]\n"
     ]
    }
   ],
   "source": [
    "# Create 3 x 3 ndarray with repeated values\n",
    "X = np.array([[1,2,3],[5,2,8],[1,2,3]])\n",
    "\n",
    "# We print X\n",
    "print()\n",
    "print('X = \\n', X)\n",
    "print()\n",
    "\n",
    "# We print the unique elements of X \n",
    "print('The unique elements in X are:',np.unique(X))"
   ]
  },
  {
   "cell_type": "markdown",
   "id": "ea0dc715-c606-4bff-87b3-742abd43be62",
   "metadata": {},
   "source": [
    "\n",
    "\n",
    "## Boolean Indexing, Set Operations, and Sorting\n",
    "\n",
    "Up to now, we have seen how to make slices and select elements of an `ndarray` using indices. This is useful when we know the exact indices of the elements we want to select. However, there are many situations in which we don't know the indices of the elements we want to select. For example, suppose we have a 10,000 x 10,000 `ndarray` of random integers ranging from 1 to 15,000, and we only want to select those integers that are less than 20. Boolean indexing can help us in these cases, by allowing us to select elements using logical arguments instead of explicit indices. Let's see some examples:\n",
    "\n"
   ]
  },
  {
   "cell_type": "code",
   "execution_count": 45,
   "id": "2223524b-d938-444c-a597-2a619efbe09e",
   "metadata": {},
   "outputs": [
    {
     "name": "stdout",
     "output_type": "stream",
     "text": [
      "\n",
      "Original X = \n",
      " [[ 0  1  2  3  4]\n",
      " [ 5  6  7  8  9]\n",
      " [10 11 12 13 14]\n",
      " [15 16 17 18 19]\n",
      " [20 21 22 23 24]]\n",
      "\n",
      "The elements in X that are greater than 10: [11 12 13 14 15 16 17 18 19 20 21 22 23 24]\n",
      "The elements in X that less than or equal to 7: [0 1 2 3 4 5 6 7]\n",
      "The elements in X that are between 10 and 17: [11 12 13 14 15 16]\n",
      "\n",
      "X = \n",
      " [[ 0  1  2  3  4]\n",
      " [ 5  6  7  8  9]\n",
      " [10 -1 -1 -1 -1]\n",
      " [-1 -1 17 18 19]\n",
      " [20 21 22 23 24]]\n",
      "\n"
     ]
    }
   ],
   "source": [
    "# We create a 5 x 5 ndarray that contains integers from 0 to 24\n",
    "X = np.arange(25).reshape(5, 5)\n",
    "\n",
    "# We print X\n",
    "print()\n",
    "print('Original X = \\n', X)\n",
    "print()\n",
    "\n",
    "# We use Boolean indexing to select elements in X:\n",
    "print('The elements in X that are greater than 10:', X[X > 10])\n",
    "print('The elements in X that less than or equal to 7:', X[X <= 7])\n",
    "print('The elements in X that are between 10 and 17:', X[(X > 10) & (X < 17)])\n",
    "\n",
    "# We use Boolean indexing to assign the elements that are between 10 and 17 the value of -1\n",
    "X[(X > 10) & (X < 17)] = -1\n",
    "\n",
    "# We print X\n",
    "print()\n",
    "print('X = \\n', X)\n",
    "print()"
   ]
  },
  {
   "cell_type": "markdown",
   "id": "a0c4fd40-abdb-488a-8fee-e846b8e184c7",
   "metadata": {},
   "source": [
    "\n",
    "\n",
    "In addition to Boolean Indexing, NumPy also allows for set operations. This is useful when comparing `ndarrays`, for example, to find common elements between two `ndarrays`. Let's see some examples:\n",
    "\n"
   ]
  },
  {
   "cell_type": "code",
   "execution_count": 46,
   "id": "a2487895-e29b-44d3-be2b-3754eab81f0f",
   "metadata": {},
   "outputs": [
    {
     "name": "stdout",
     "output_type": "stream",
     "text": [
      "\n",
      "x =  [1 2 3 4 5]\n",
      "\n",
      "y =  [6 7 2 8 4]\n",
      "\n",
      "The elements that are both in x and y: [2 4]\n",
      "The elements that are in x that are not in y: [1 3 5]\n",
      "All the elements of x and y: [1 2 3 4 5 6 7 8]\n"
     ]
    }
   ],
   "source": [
    "# We create a rank 1 ndarray\n",
    "x = np.array([1,2,3,4,5])\n",
    "\n",
    "# We create a rank 1 ndarray\n",
    "y = np.array([6,7,2,8,4])\n",
    "\n",
    "# We print x\n",
    "print()\n",
    "print('x = ', x)\n",
    "\n",
    "# We print y\n",
    "print()\n",
    "print('y = ', y)\n",
    "\n",
    "# We use set operations to compare x and y:\n",
    "print()\n",
    "print('The elements that are both in x and y:', np.intersect1d(x,y))\n",
    "print('The elements that are in x that are not in y:', np.setdiff1d(x,y))\n",
    "print('All the elements of x and y:',np.union1d(x,y))"
   ]
  },
  {
   "cell_type": "markdown",
   "id": "b23a35c1-304e-42b5-854b-ebfed47e5538",
   "metadata": {},
   "source": [
    "\n",
    "\n",
    "We can also sort `ndarrays` in NumPy. We will learn how to use the `np.sort()` function to sort rank 1 and rank 2 `ndarrays` in different ways. Like with other functions we saw before, the sort function can also be used as a method. However, there is a big difference in how the data is stored in memory in this case. When `np.sort()` is used as a function, it sorts the `ndarrays` out of place, meaning that it doesn't change the original `ndarray` being sorted. However, when you use sort as a method, `ndarray.sort()` sorts the `ndarray` in place, meaning that the original array will be changed to the sorted one. Let's see some examples:\n",
    "\n"
   ]
  },
  {
   "cell_type": "code",
   "execution_count": 47,
   "id": "8f1986ac-089e-4cfa-8825-9e483d81c069",
   "metadata": {},
   "outputs": [
    {
     "name": "stdout",
     "output_type": "stream",
     "text": [
      "\n",
      "Original x =  [ 1  5  2  6 10  4  4  8  8  4]\n",
      "\n",
      "Sorted x (out of place): [ 1  2  4  4  4  5  6  8  8 10]\n",
      "\n",
      "x after sorting: [ 1  5  2  6 10  4  4  8  8  4]\n"
     ]
    }
   ],
   "source": [
    "# We create an unsorted rank 1 ndarray\n",
    "x = np.random.randint(1,11,size=(10,))\n",
    "\n",
    "# We print x\n",
    "print()\n",
    "print('Original x = ', x)\n",
    "\n",
    "# We sort x and print the sorted array using sort as a function.\n",
    "print()\n",
    "print('Sorted x (out of place):', np.sort(x))\n",
    "\n",
    "# When we sort out of place the original array remains intact. To see this we print x again\n",
    "print()\n",
    "print('x after sorting:', x)"
   ]
  },
  {
   "cell_type": "markdown",
   "id": "6c445af7-9cb5-4e0f-b21b-2e915505e558",
   "metadata": {},
   "source": [
    "\n",
    "\n",
    "Notice that `np.sort()` sorts the array, but if the `ndarray` being sorted has repeated values, `np.sort()` leaves those values in the sorted array. However, if desired, we can sort only the unique elements in `x` by combining the sort function with the unique function. Let's see how we can sort the unique elements of `x` above:\n",
    "\n"
   ]
  },
  {
   "cell_type": "code",
   "execution_count": 48,
   "id": "664d0c88-75b2-4b4e-b4b1-de2b47f3d26e",
   "metadata": {},
   "outputs": [
    {
     "name": "stdout",
     "output_type": "stream",
     "text": [
      "[ 1  2  4  5  6  8 10]\n"
     ]
    }
   ],
   "source": [
    "# We sort x but only keep the unique elements in x\n",
    "print(np.sort(np.unique(x)))"
   ]
  },
  {
   "cell_type": "markdown",
   "id": "ab513fed-47a8-4e9a-9bc0-45e0dcde94e1",
   "metadata": {},
   "source": [
    "Finally, let's see how we can sort ndarrays in place, by using sort as a method:"
   ]
  },
  {
   "cell_type": "code",
   "execution_count": 49,
   "id": "17e52f8d-9fb5-4bb2-a742-e843dcc2afcb",
   "metadata": {},
   "outputs": [
    {
     "name": "stdout",
     "output_type": "stream",
     "text": [
      "\n",
      "Original x =  [ 2  6  9  4 10  1  4  2 10  6]\n",
      "\n",
      "x after sorting: [ 1  2  2  4  4  6  6  9 10 10]\n"
     ]
    }
   ],
   "source": [
    "# We create an unsorted rank 1 ndarray\n",
    "x = np.random.randint(1,11,size=(10,))\n",
    "\n",
    "# We print x\n",
    "print()\n",
    "print('Original x = ', x)\n",
    "\n",
    "# We sort x and print the sorted array using sort as a method.\n",
    "x.sort()\n",
    "\n",
    "# When we sort in place the original array is changed to the sorted array. To see this we print x again\n",
    "print()\n",
    "print('x after sorting:', x)"
   ]
  },
  {
   "cell_type": "markdown",
   "id": "8b07cda5-ec3c-4f56-9b28-b6c87b345597",
   "metadata": {},
   "source": [
    "\n",
    "\n",
    "When sorting rank 2 ndarrays, we need to specify to the `np.sort()` function whether we are sorting by rows or columns. This is done by using the `axis` keyword. Let's see some examples:\n"
   ]
  },
  {
   "cell_type": "code",
   "execution_count": 50,
   "id": "5e6e72c9-7c11-401d-a700-7f5800798e1f",
   "metadata": {},
   "outputs": [
    {
     "name": "stdout",
     "output_type": "stream",
     "text": [
      "\n",
      "Original X = \n",
      " [[ 3  7  7  7  5]\n",
      " [10  9  1  8  4]\n",
      " [ 4  8  9  4  4]\n",
      " [ 6  8  4  9  2]\n",
      " [ 8  2  6  7 10]]\n",
      "\n",
      "\n",
      "X with sorted columns :\n",
      " [[ 3  2  1  4  2]\n",
      " [ 4  7  4  7  4]\n",
      " [ 6  8  6  7  4]\n",
      " [ 8  8  7  8  5]\n",
      " [10  9  9  9 10]]\n",
      "\n",
      "X with sorted rows :\n",
      " [[ 3  5  7  7  7]\n",
      " [ 1  4  8  9 10]\n",
      " [ 4  4  4  8  9]\n",
      " [ 2  4  6  8  9]\n",
      " [ 2  6  7  8 10]]\n"
     ]
    }
   ],
   "source": [
    "# We create an unsorted rank 2 ndarray\n",
    "X = np.random.randint(1,11,size=(5,5))\n",
    "\n",
    "# We print X\n",
    "print()\n",
    "print('Original X = \\n', X)\n",
    "print()\n",
    "\n",
    "# We sort the columns of X and print the sorted array\n",
    "print()\n",
    "print('X with sorted columns :\\n', np.sort(X, axis = 0))\n",
    "\n",
    "# We sort the rows of X and print the sorted array\n",
    "print()\n",
    "print('X with sorted rows :\\n', np.sort(X, axis = 1))"
   ]
  },
  {
   "cell_type": "markdown",
   "id": "ffc4d364-6349-44a7-8958-decfabe63e90",
   "metadata": {},
   "source": [
    "\n",
    "\n",
    "## Arithmetic Operations and Broadcasting\n",
    "\n",
    "We have reached the last lesson in this Introduction to NumPy. In this last lesson, we will see how NumPy does arithmetic operations on ndarrays. NumPy allows element-wise operations on ndarrays as well as matrix operations. In this lesson, we will only be looking at element-wise operations on ndarrays. \n",
    "\n",
    "In order to do element-wise operations, NumPy sometimes uses something called **Broadcasting**. Broadcasting is the term used to describe how NumPy handles element-wise arithmetic operations with ndarrays of different shapes. For example, broadcasting is used implicitly when doing arithmetic operations between scalars and ndarrays.\n",
    "\n",
    "Let's start by doing element-wise addition, subtraction, multiplication, and division between ndarrays. To do this, NumPy provides a functional approach, where we use functions such as `np.add()`, or by using arithmetic symbols, such as `+`, that resembles more how we write mathematical equations. Both forms will do the same operation; the only difference is that if you use the function approach, the functions usually have options that you can tweak using keywords. \n",
    "\n",
    "It is important to note that when performing element-wise operations, the shapes of the ndarrays being operated on must have the same shape or be broadcastable. We'll explain more about this later in this lesson. Let's start by performing element-wise arithmetic operations on rank 1 ndarrays:\n",
    "\n"
   ]
  },
  {
   "cell_type": "code",
   "execution_count": 51,
   "id": "9b273fad-34af-4c5b-8caa-84525b5f1e0f",
   "metadata": {},
   "outputs": [
    {
     "name": "stdout",
     "output_type": "stream",
     "text": [
      "\n",
      "x =  [1 2 3 4]\n",
      "\n",
      "y =  [5.5 6.5 7.5 8.5]\n",
      "\n",
      "x + y =  [ 6.5  8.5 10.5 12.5]\n",
      "add(x,y) =  [ 6.5  8.5 10.5 12.5]\n",
      "\n",
      "x - y =  [-4.5 -4.5 -4.5 -4.5]\n",
      "subtract(x,y) =  [-4.5 -4.5 -4.5 -4.5]\n",
      "\n",
      "x * y =  [ 5.5 13.  22.5 34. ]\n",
      "multiply(x,y) =  [ 5.5 13.  22.5 34. ]\n",
      "\n",
      "x / y =  [0.18181818 0.30769231 0.4        0.47058824]\n",
      "divide(x,y) =  [0.18181818 0.30769231 0.4        0.47058824]\n"
     ]
    }
   ],
   "source": [
    "# We create two rank 1 ndarrays\n",
    "x = np.array([1,2,3,4])\n",
    "y = np.array([5.5,6.5,7.5,8.5])\n",
    "\n",
    "# We print x\n",
    "print()\n",
    "print('x = ', x)\n",
    "\n",
    "# We print y\n",
    "print()\n",
    "print('y = ', y)\n",
    "print()\n",
    "\n",
    "# We perfrom basic element-wise operations using arithmetic symbols and functions\n",
    "print('x + y = ', x + y)\n",
    "print('add(x,y) = ', np.add(x,y))\n",
    "print()\n",
    "print('x - y = ', x - y)\n",
    "print('subtract(x,y) = ', np.subtract(x,y))\n",
    "print()\n",
    "print('x * y = ', x * y)\n",
    "print('multiply(x,y) = ', np.multiply(x,y))\n",
    "print()\n",
    "print('x / y = ', x / y)\n",
    "print('divide(x,y) = ', np.divide(x,y))"
   ]
  },
  {
   "cell_type": "markdown",
   "id": "c0307ea9-7c93-472c-8154-1c1cf6dc3e20",
   "metadata": {},
   "source": [
    "We can also perform the same element-wise arithmetic operations on rank 2 ndarrays. Again, remember that in order to do these operations the shapes of the ndarrays being operated on, must have the same shape or be broadcastable."
   ]
  },
  {
   "cell_type": "code",
   "execution_count": 52,
   "id": "8f76c2e7-f6fe-4748-9529-8b31231da876",
   "metadata": {},
   "outputs": [
    {
     "name": "stdout",
     "output_type": "stream",
     "text": [
      "\n",
      "X = \n",
      " [[1 2]\n",
      " [3 4]]\n",
      "\n",
      "Y = \n",
      " [[5.5 6.5]\n",
      " [7.5 8.5]]\n",
      "\n",
      "X + Y = \n",
      " [[ 6.5  8.5]\n",
      " [10.5 12.5]]\n",
      "\n",
      "add(X,Y) = \n",
      " [[ 6.5  8.5]\n",
      " [10.5 12.5]]\n",
      "\n",
      "X - Y = \n",
      " [[-4.5 -4.5]\n",
      " [-4.5 -4.5]]\n",
      "\n",
      "subtract(X,Y) = \n",
      " [[-4.5 -4.5]\n",
      " [-4.5 -4.5]]\n",
      "\n",
      "X * Y = \n",
      " [[ 5.5 13. ]\n",
      " [22.5 34. ]]\n",
      "\n",
      "multiply(X,Y) = \n",
      " [[ 5.5 13. ]\n",
      " [22.5 34. ]]\n",
      "\n",
      "X / Y = \n",
      " [[0.18181818 0.30769231]\n",
      " [0.4        0.47058824]]\n",
      "\n",
      "divide(X,Y) = \n",
      " [[0.18181818 0.30769231]\n",
      " [0.4        0.47058824]]\n"
     ]
    }
   ],
   "source": [
    "# We create two rank 2 ndarrays\n",
    "X = np.array([1,2,3,4]).reshape(2,2)\n",
    "Y = np.array([5.5,6.5,7.5,8.5]).reshape(2,2)\n",
    "\n",
    "# We print X\n",
    "print()\n",
    "print('X = \\n', X)\n",
    "\n",
    "# We print Y\n",
    "print()\n",
    "print('Y = \\n', Y)\n",
    "print()\n",
    "\n",
    "# We perform basic element-wise operations using arithmetic symbols and functions\n",
    "print('X + Y = \\n', X + Y)\n",
    "print()\n",
    "print('add(X,Y) = \\n', np.add(X,Y))\n",
    "print()\n",
    "print('X - Y = \\n', X - Y)\n",
    "print()\n",
    "print('subtract(X,Y) = \\n', np.subtract(X,Y))\n",
    "print()\n",
    "print('X * Y = \\n', X * Y)\n",
    "print()\n",
    "print('multiply(X,Y) = \\n', np.multiply(X,Y))\n",
    "print()\n",
    "print('X / Y = \\n', X / Y)\n",
    "print()\n",
    "print('divide(X,Y) = \\n', np.divide(X,Y))"
   ]
  },
  {
   "cell_type": "markdown",
   "id": "d009de21-e92e-41df-944a-9cd051471784",
   "metadata": {},
   "source": [
    "We can also apply mathematical functions, such as `sqrt(x)`, to all elements of an ndarray at once."
   ]
  },
  {
   "cell_type": "code",
   "execution_count": 53,
   "id": "dea4725c-06b9-475a-bc44-25c2b846ab7d",
   "metadata": {},
   "outputs": [
    {
     "name": "stdout",
     "output_type": "stream",
     "text": [
      "\n",
      "x =  [1 2 3 4]\n",
      "\n",
      "EXP(x) = [ 2.71828183  7.3890561  20.08553692 54.59815003]\n",
      "\n",
      "SQRT(x) = [1.         1.41421356 1.73205081 2.        ]\n",
      "\n",
      "POW(x,2) = [ 1  4  9 16]\n"
     ]
    }
   ],
   "source": [
    "# We create a rank 1 ndarray\n",
    "x = np.array([1,2,3,4])\n",
    "\n",
    "# We print x\n",
    "print()\n",
    "print('x = ', x)\n",
    "\n",
    "# We apply different mathematical functions to all elements of x\n",
    "print()\n",
    "print('EXP(x) =', np.exp(x))\n",
    "print()\n",
    "print('SQRT(x) =',np.sqrt(x))\n",
    "print()\n",
    "print('POW(x,2) =',np.power(x,2)) # We raise all elements to the power of 2"
   ]
  },
  {
   "cell_type": "markdown",
   "id": "38e7a48b-428e-4056-8dae-a47cee39d79c",
   "metadata": {},
   "source": [
    "Another great feature of NumPy is that it has a wide variety of statistical functions. Statistical functions provide us with statistical information about the elements in an ndarray. Let's see some examples:"
   ]
  },
  {
   "cell_type": "code",
   "execution_count": 54,
   "id": "3b35c8b9-d741-4e24-9221-e70457156cbb",
   "metadata": {},
   "outputs": [
    {
     "name": "stdout",
     "output_type": "stream",
     "text": [
      "\n",
      "X = \n",
      " [[1 2]\n",
      " [3 4]]\n",
      "\n",
      "Average of all elements in X: 2.5\n",
      "Average of all elements in the columns of X: [2. 3.]\n",
      "Average of all elements in the rows of X: [1.5 3.5]\n",
      "\n",
      "Sum of all elements in X: 10\n",
      "Sum of all elements in the columns of X: [4 6]\n",
      "Sum of all elements in the rows of X: [3 7]\n",
      "\n",
      "Standard Deviation of all elements in X: 1.118033988749895\n",
      "Standard Deviation of all elements in the columns of X: [1. 1.]\n",
      "Standard Deviation of all elements in the rows of X: [0.5 0.5]\n",
      "\n",
      "Median of all elements in X: 2.5\n",
      "Median of all elements in the columns of X: [2. 3.]\n",
      "Median of all elements in the rows of X: [1.5 3.5]\n",
      "\n",
      "Maximum value of all elements in X: 4\n",
      "Maximum value of all elements in the columns of X: [3 4]\n",
      "Maximum value of all elements in the rows of X: [2 4]\n",
      "\n",
      "Minimum value of all elements in X: 1\n",
      "Minimum value of all elements in the columns of X: [1 2]\n",
      "Minimum value of all elements in the rows of X: [1 3]\n"
     ]
    }
   ],
   "source": [
    "# We create a 2 x 2 ndarray\n",
    "X = np.array([[1,2], [3,4]])\n",
    "\n",
    "# We print x\n",
    "print()\n",
    "print('X = \\n', X)\n",
    "print()\n",
    "\n",
    "print('Average of all elements in X:', X.mean())\n",
    "print('Average of all elements in the columns of X:', X.mean(axis=0))\n",
    "print('Average of all elements in the rows of X:', X.mean(axis=1))\n",
    "print()\n",
    "print('Sum of all elements in X:', X.sum())\n",
    "print('Sum of all elements in the columns of X:', X.sum(axis=0))\n",
    "print('Sum of all elements in the rows of X:', X.sum(axis=1))\n",
    "print()\n",
    "print('Standard Deviation of all elements in X:', X.std())\n",
    "print('Standard Deviation of all elements in the columns of X:', X.std(axis=0))\n",
    "print('Standard Deviation of all elements in the rows of X:', X.std(axis=1))\n",
    "print()\n",
    "print('Median of all elements in X:', np.median(X))\n",
    "print('Median of all elements in the columns of X:', np.median(X,axis=0))\n",
    "print('Median of all elements in the rows of X:', np.median(X,axis=1))\n",
    "print()\n",
    "print('Maximum value of all elements in X:', X.max())\n",
    "print('Maximum value of all elements in the columns of X:', X.max(axis=0))\n",
    "print('Maximum value of all elements in the rows of X:', X.max(axis=1))\n",
    "print()\n",
    "print('Minimum value of all elements in X:', X.min())\n",
    "print('Minimum value of all elements in the columns of X:', X.min(axis=0))\n",
    "print('Minimum value of all elements in the rows of X:', X.min(axis=1))"
   ]
  },
  {
   "cell_type": "markdown",
   "id": "3cbf11d1-495b-4819-a455-465379c9773c",
   "metadata": {},
   "source": [
    "Finally, let's see how NumPy can add single numbers to all the elements of an ndarray without the use of complicated loops."
   ]
  },
  {
   "cell_type": "code",
   "execution_count": 55,
   "id": "649eab28-644f-430c-8e32-f5d3404b5a3c",
   "metadata": {},
   "outputs": [
    {
     "name": "stdout",
     "output_type": "stream",
     "text": [
      "\n",
      "X = \n",
      " [[1 2]\n",
      " [3 4]]\n",
      "\n",
      "3 * X = \n",
      " [[ 3  6]\n",
      " [ 9 12]]\n",
      "\n",
      "3 + X = \n",
      " [[4 5]\n",
      " [6 7]]\n",
      "\n",
      "X - 3 = \n",
      " [[-2 -1]\n",
      " [ 0  1]]\n",
      "\n",
      "X / 3 = \n",
      " [[0.33333333 0.66666667]\n",
      " [1.         1.33333333]]\n"
     ]
    }
   ],
   "source": [
    "# We create a 2 x 2 ndarray\n",
    "X = np.array([[1,2], [3,4]])\n",
    "\n",
    "# We print x\n",
    "print()\n",
    "print('X = \\n', X)\n",
    "print()\n",
    "\n",
    "print('3 * X = \\n', 3 * X)\n",
    "print()\n",
    "print('3 + X = \\n', 3 + X)\n",
    "print()\n",
    "print('X - 3 = \\n', X - 3)\n",
    "print()\n",
    "print('X / 3 = \\n', X / 3)"
   ]
  },
  {
   "cell_type": "markdown",
   "id": "6aeaa60a-292b-4220-8c4e-57ea9ed46b54",
   "metadata": {},
   "source": [
    "\n",
    "In the examples above, NumPy is working behind the scenes to broadcast **3** along the ndarray so that they have the same shape. This allows us to add **3** to each element of **X** with just one line of code.\n",
    "\n",
    "Subject to certain constraints, NumPy can do the same for two ndarrays of different shapes, as we can see below.\n",
    "\n"
   ]
  },
  {
   "cell_type": "code",
   "execution_count": 56,
   "id": "d8631bb8-acd0-4a81-a30b-8761bfb714fe",
   "metadata": {},
   "outputs": [
    {
     "name": "stdout",
     "output_type": "stream",
     "text": [
      "\n",
      "x =  [1 2 3]\n",
      "\n",
      "\n",
      "Y = \n",
      " [[1 2 3]\n",
      " [4 5 6]\n",
      " [7 8 9]]\n",
      "\n",
      "\n",
      "Z = \n",
      " [[1]\n",
      " [2]\n",
      " [3]]\n",
      "\n",
      "x + Y = \n",
      " [[ 2  4  6]\n",
      " [ 5  7  9]\n",
      " [ 8 10 12]]\n",
      "\n",
      "Z + Y = \n",
      " [[ 2  3  4]\n",
      " [ 6  7  8]\n",
      " [10 11 12]]\n"
     ]
    }
   ],
   "source": [
    "# We create a rank 1 ndarray\n",
    "x = np.array([1,2,3])\n",
    "\n",
    "# We create a 3 x 3 ndarray\n",
    "Y = np.array([[1,2,3],[4,5,6],[7,8,9]])\n",
    "\n",
    "# We create a 3 x 1 ndarray\n",
    "Z = np.array([1,2,3]).reshape(3,1)\n",
    "\n",
    "# We print x\n",
    "print()\n",
    "print('x = ', x)\n",
    "print()\n",
    "\n",
    "# We print Y\n",
    "print()\n",
    "print('Y = \\n', Y)\n",
    "print()\n",
    "\n",
    "# We print Z\n",
    "print()\n",
    "print('Z = \\n', Z)\n",
    "print()\n",
    "\n",
    "print('x + Y = \\n', x + Y)\n",
    "print()\n",
    "print('Z + Y = \\n',Z + Y)"
   ]
  },
  {
   "cell_type": "markdown",
   "id": "fb011064-a39b-4994-95af-b9093ebb5345",
   "metadata": {},
   "source": [
    "As before, NumPy is able to add 1 x 3 and 3 x 1 ndarrays to 3 x 3 ndarrays by broadcasting the smaller ndarrays along the big ndarray so that they have compatible shapes. In general, NumPy can do this provided that the smaller ndarray, such as the 1 x 3 ndarray in our example, can be expanded to the shape of the larger ndarray in such a way that the resulting broadcast is unambiguous."
   ]
  },
  {
   "cell_type": "markdown",
   "id": "2c12cadc-dad6-4966-9cd7-8dfbed424709",
   "metadata": {},
   "source": [
    "# 🚀 NumPy Fundamentals: Quick Recap\r\n",
    "\r\n",
    "## 📊 Core Concepts\r\n",
    "\r\n",
    "1. **ndarray Basics**\r\n",
    "   - Creation: `np.array()`, `np.zeros()`, `np.ones()`, `np.arange()`\r\n",
    "   - Indexing & Slicing: `arr[0]`, `arr[1:5]`, `arr[::2]`\r\n",
    "   - Views vs Copies: `arr.view()` vs `arr.copy()`\r\n",
    "\r\n",
    "2. **Advanced Selection**\r\n",
    "   - Boolean indexing: `arr[arr > 5]`\r\n",
    "   - Set ops: `np.intersect1d()`, `np.setdiff1d()`, `np.union1d()`\r\n",
    "   - Sorting: `np.sort()`, `arr.sort()`\r\n",
    "\r\n",
    "3. **Arithmetic & Broadcasting**\r\n",
    "   - Element-wise ops: `+`, `-`, `*`, `/`\r\n",
    "   - Broadcasting: Operating on arrays with different shapes\r\n",
    "   - Stats: `np.mean()`, `np.sum()`, `np.std()`, `np.median()`\r\n",
    "\r\n",
    "4. **Practical Examples**\r\n",
    "   - Unique elements: `np.unique()`\r\n",
    "   - Diagonal extraction: `np.diag()`\r\n",
    "   - Advanced indexing: `arr[[1,3,5]]`\r\n",
    "   - Math functions: `np.sin()`, `np.exp()`\r\n",
    "\r\n",
    "## 🎓 Key Takeaways\r\n",
    "\r\n",
    "- NumPy provides efficient array operations\r\n",
    "- Broadcasting enables flexible computations\r\n",
    "- Rich set of functions for data manipulation and analysis\r\n",
    "\r\n",
    "## 💡 Pro Tips\r\n",
    "\r\n",
    "1. Use vectorized operations for speed\r\n",
    "2. Leverage broadcasting to write concise code\r\n",
    "3. Explore NumPy's extensive documentation for more advanced features\r\n",
    "\r\n",
    "Keep practicing and experimenting with NumPy to master these fundamentals!"
   ]
  }
 ],
 "metadata": {
  "kernelspec": {
   "display_name": "Python 3 (ipykernel)",
   "language": "python",
   "name": "python3"
  },
  "language_info": {
   "codemirror_mode": {
    "name": "ipython",
    "version": 3
   },
   "file_extension": ".py",
   "mimetype": "text/x-python",
   "name": "python",
   "nbconvert_exporter": "python",
   "pygments_lexer": "ipython3",
   "version": "3.10.13"
  }
 },
 "nbformat": 4,
 "nbformat_minor": 5
}
